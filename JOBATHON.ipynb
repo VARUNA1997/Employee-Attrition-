{
 "cells": [
  {
   "cell_type": "markdown",
   "metadata": {},
   "source": [
    "# Importing Libraries"
   ]
  },
  {
   "cell_type": "code",
   "execution_count": 2,
   "metadata": {},
   "outputs": [],
   "source": [
    "import pandas as pd\n",
    "import numpy as np #linear algebra\n",
    "import matplotlib.pyplot as plt ##data visualization\n",
    "import seaborn as sns"
   ]
  },
  {
   "cell_type": "code",
   "execution_count": 4,
   "metadata": {},
   "outputs": [],
   "source": [
    "from warnings import filterwarnings ##filters all warnings \n",
    "filterwarnings('ignore')"
   ]
  },
  {
   "cell_type": "markdown",
   "metadata": {},
   "source": [
    "## Load the Data"
   ]
  },
  {
   "cell_type": "code",
   "execution_count": 5,
   "metadata": {},
   "outputs": [
    {
     "data": {
      "text/html": [
       "<div>\n",
       "<style scoped>\n",
       "    .dataframe tbody tr th:only-of-type {\n",
       "        vertical-align: middle;\n",
       "    }\n",
       "\n",
       "    .dataframe tbody tr th {\n",
       "        vertical-align: top;\n",
       "    }\n",
       "\n",
       "    .dataframe thead th {\n",
       "        text-align: right;\n",
       "    }\n",
       "</style>\n",
       "<table border=\"1\" class=\"dataframe\">\n",
       "  <thead>\n",
       "    <tr style=\"text-align: right;\">\n",
       "      <th></th>\n",
       "      <th>MMM-YY</th>\n",
       "      <th>Emp_ID</th>\n",
       "      <th>Age</th>\n",
       "      <th>Gender</th>\n",
       "      <th>City</th>\n",
       "      <th>Education_Level</th>\n",
       "      <th>Salary</th>\n",
       "      <th>Dateofjoining</th>\n",
       "      <th>LastWorkingDate</th>\n",
       "      <th>Joining Designation</th>\n",
       "      <th>Designation</th>\n",
       "      <th>Total Business Value</th>\n",
       "      <th>Quarterly Rating</th>\n",
       "      <th>Target</th>\n",
       "    </tr>\n",
       "  </thead>\n",
       "  <tbody>\n",
       "    <tr>\n",
       "      <th>7546</th>\n",
       "      <td>01-01-2016</td>\n",
       "      <td>1123</td>\n",
       "      <td>42</td>\n",
       "      <td>Female</td>\n",
       "      <td>C20</td>\n",
       "      <td>Bachelor</td>\n",
       "      <td>55112</td>\n",
       "      <td>4/30/2013</td>\n",
       "      <td>NaN</td>\n",
       "      <td>1</td>\n",
       "      <td>2</td>\n",
       "      <td>619250</td>\n",
       "      <td>2</td>\n",
       "      <td>NO</td>\n",
       "    </tr>\n",
       "    <tr>\n",
       "      <th>13230</th>\n",
       "      <td>06-01-2016</td>\n",
       "      <td>1968</td>\n",
       "      <td>38</td>\n",
       "      <td>Male</td>\n",
       "      <td>C15</td>\n",
       "      <td>Bachelor</td>\n",
       "      <td>55836</td>\n",
       "      <td>7/13/2015</td>\n",
       "      <td>NaN</td>\n",
       "      <td>1</td>\n",
       "      <td>1</td>\n",
       "      <td>136170</td>\n",
       "      <td>2</td>\n",
       "      <td>NO</td>\n",
       "    </tr>\n",
       "    <tr>\n",
       "      <th>5497</th>\n",
       "      <td>08-01-2016</td>\n",
       "      <td>820</td>\n",
       "      <td>38</td>\n",
       "      <td>Male</td>\n",
       "      <td>C14</td>\n",
       "      <td>Master</td>\n",
       "      <td>59166</td>\n",
       "      <td>5/23/2015</td>\n",
       "      <td>NaN</td>\n",
       "      <td>1</td>\n",
       "      <td>1</td>\n",
       "      <td>116520</td>\n",
       "      <td>3</td>\n",
       "      <td>NO</td>\n",
       "    </tr>\n",
       "    <tr>\n",
       "      <th>11362</th>\n",
       "      <td>02-01-2017</td>\n",
       "      <td>1680</td>\n",
       "      <td>31</td>\n",
       "      <td>Female</td>\n",
       "      <td>C9</td>\n",
       "      <td>Bachelor</td>\n",
       "      <td>65299</td>\n",
       "      <td>01-04-2017</td>\n",
       "      <td>NaN</td>\n",
       "      <td>2</td>\n",
       "      <td>2</td>\n",
       "      <td>300000</td>\n",
       "      <td>1</td>\n",
       "      <td>NO</td>\n",
       "    </tr>\n",
       "    <tr>\n",
       "      <th>3292</th>\n",
       "      <td>04-01-2017</td>\n",
       "      <td>489</td>\n",
       "      <td>31</td>\n",
       "      <td>Female</td>\n",
       "      <td>C12</td>\n",
       "      <td>Master</td>\n",
       "      <td>49475</td>\n",
       "      <td>10/18/2016</td>\n",
       "      <td>NaN</td>\n",
       "      <td>1</td>\n",
       "      <td>1</td>\n",
       "      <td>670210</td>\n",
       "      <td>3</td>\n",
       "      <td>NO</td>\n",
       "    </tr>\n",
       "    <tr>\n",
       "      <th>13331</th>\n",
       "      <td>07-01-2016</td>\n",
       "      <td>1983</td>\n",
       "      <td>49</td>\n",
       "      <td>Female</td>\n",
       "      <td>C23</td>\n",
       "      <td>Master</td>\n",
       "      <td>76531</td>\n",
       "      <td>07-02-2015</td>\n",
       "      <td>NaN</td>\n",
       "      <td>1</td>\n",
       "      <td>2</td>\n",
       "      <td>151160</td>\n",
       "      <td>1</td>\n",
       "      <td>NO</td>\n",
       "    </tr>\n",
       "    <tr>\n",
       "      <th>2629</th>\n",
       "      <td>04-01-2016</td>\n",
       "      <td>402</td>\n",
       "      <td>44</td>\n",
       "      <td>Male</td>\n",
       "      <td>C24</td>\n",
       "      <td>Master</td>\n",
       "      <td>91279</td>\n",
       "      <td>11/29/2012</td>\n",
       "      <td>NaN</td>\n",
       "      <td>1</td>\n",
       "      <td>3</td>\n",
       "      <td>579510</td>\n",
       "      <td>4</td>\n",
       "      <td>NO</td>\n",
       "    </tr>\n",
       "    <tr>\n",
       "      <th>9658</th>\n",
       "      <td>06-01-2017</td>\n",
       "      <td>1432</td>\n",
       "      <td>33</td>\n",
       "      <td>Male</td>\n",
       "      <td>C26</td>\n",
       "      <td>College</td>\n",
       "      <td>29365</td>\n",
       "      <td>10/13/2015</td>\n",
       "      <td>NaN</td>\n",
       "      <td>1</td>\n",
       "      <td>2</td>\n",
       "      <td>1059270</td>\n",
       "      <td>3</td>\n",
       "      <td>NO</td>\n",
       "    </tr>\n",
       "    <tr>\n",
       "      <th>11779</th>\n",
       "      <td>10-01-2016</td>\n",
       "      <td>1746</td>\n",
       "      <td>50</td>\n",
       "      <td>Female</td>\n",
       "      <td>C12</td>\n",
       "      <td>Master</td>\n",
       "      <td>38478</td>\n",
       "      <td>9/24/2015</td>\n",
       "      <td>NaN</td>\n",
       "      <td>1</td>\n",
       "      <td>2</td>\n",
       "      <td>104100</td>\n",
       "      <td>1</td>\n",
       "      <td>NO</td>\n",
       "    </tr>\n",
       "    <tr>\n",
       "      <th>7005</th>\n",
       "      <td>02-01-2016</td>\n",
       "      <td>1050</td>\n",
       "      <td>30</td>\n",
       "      <td>Female</td>\n",
       "      <td>C28</td>\n",
       "      <td>Bachelor</td>\n",
       "      <td>31915</td>\n",
       "      <td>01-07-2015</td>\n",
       "      <td>NaN</td>\n",
       "      <td>1</td>\n",
       "      <td>1</td>\n",
       "      <td>844160</td>\n",
       "      <td>4</td>\n",
       "      <td>NO</td>\n",
       "    </tr>\n",
       "  </tbody>\n",
       "</table>\n",
       "</div>"
      ],
      "text/plain": [
       "           MMM-YY  Emp_ID  Age  Gender City Education_Level  Salary  \\\n",
       "7546   01-01-2016    1123   42  Female  C20        Bachelor   55112   \n",
       "13230  06-01-2016    1968   38    Male  C15        Bachelor   55836   \n",
       "5497   08-01-2016     820   38    Male  C14          Master   59166   \n",
       "11362  02-01-2017    1680   31  Female   C9        Bachelor   65299   \n",
       "3292   04-01-2017     489   31  Female  C12          Master   49475   \n",
       "13331  07-01-2016    1983   49  Female  C23          Master   76531   \n",
       "2629   04-01-2016     402   44    Male  C24          Master   91279   \n",
       "9658   06-01-2017    1432   33    Male  C26         College   29365   \n",
       "11779  10-01-2016    1746   50  Female  C12          Master   38478   \n",
       "7005   02-01-2016    1050   30  Female  C28        Bachelor   31915   \n",
       "\n",
       "      Dateofjoining LastWorkingDate  Joining Designation  Designation  \\\n",
       "7546      4/30/2013             NaN                    1            2   \n",
       "13230     7/13/2015             NaN                    1            1   \n",
       "5497      5/23/2015             NaN                    1            1   \n",
       "11362    01-04-2017             NaN                    2            2   \n",
       "3292     10/18/2016             NaN                    1            1   \n",
       "13331    07-02-2015             NaN                    1            2   \n",
       "2629     11/29/2012             NaN                    1            3   \n",
       "9658     10/13/2015             NaN                    1            2   \n",
       "11779     9/24/2015             NaN                    1            2   \n",
       "7005     01-07-2015             NaN                    1            1   \n",
       "\n",
       "       Total Business Value  Quarterly Rating Target  \n",
       "7546                 619250                 2     NO  \n",
       "13230                136170                 2     NO  \n",
       "5497                 116520                 3     NO  \n",
       "11362                300000                 1     NO  \n",
       "3292                 670210                 3     NO  \n",
       "13331                151160                 1     NO  \n",
       "2629                 579510                 4     NO  \n",
       "9658                1059270                 3     NO  \n",
       "11779                104100                 1     NO  \n",
       "7005                 844160                 4     NO  "
      ]
     },
     "execution_count": 5,
     "metadata": {},
     "output_type": "execute_result"
    }
   ],
   "source": [
    "df=pd.read_csv(\"C:/Users/RDX/Desktop/Varun/train_MpHjUjU.csv\")\n",
    "df.sample(n=10)"
   ]
  },
  {
   "cell_type": "code",
   "execution_count": 6,
   "metadata": {},
   "outputs": [
    {
     "data": {
      "text/plain": [
       "(19104, 14)"
      ]
     },
     "execution_count": 6,
     "metadata": {},
     "output_type": "execute_result"
    }
   ],
   "source": [
    "df.shape"
   ]
  },
  {
   "cell_type": "markdown",
   "metadata": {},
   "source": [
    "**Exploring the no. of variables and datatypes**"
   ]
  },
  {
   "cell_type": "code",
   "execution_count": 7,
   "metadata": {},
   "outputs": [
    {
     "name": "stdout",
     "output_type": "stream",
     "text": [
      "<class 'pandas.core.frame.DataFrame'>\n",
      "RangeIndex: 19104 entries, 0 to 19103\n",
      "Data columns (total 14 columns):\n",
      " #   Column                Non-Null Count  Dtype \n",
      "---  ------                --------------  ----- \n",
      " 0   MMM-YY                19104 non-null  object\n",
      " 1   Emp_ID                19104 non-null  int64 \n",
      " 2   Age                   19104 non-null  int64 \n",
      " 3   Gender                19104 non-null  object\n",
      " 4   City                  19104 non-null  object\n",
      " 5   Education_Level       19104 non-null  object\n",
      " 6   Salary                19104 non-null  int64 \n",
      " 7   Dateofjoining         19104 non-null  object\n",
      " 8   LastWorkingDate       1616 non-null   object\n",
      " 9   Joining Designation   19104 non-null  int64 \n",
      " 10  Designation           19104 non-null  int64 \n",
      " 11  Total Business Value  19104 non-null  int64 \n",
      " 12  Quarterly Rating      19104 non-null  int64 \n",
      " 13  Target                19104 non-null  object\n",
      "dtypes: int64(7), object(7)\n",
      "memory usage: 1.5+ MB\n"
     ]
    }
   ],
   "source": [
    "df.info()"
   ]
  },
  {
   "cell_type": "markdown",
   "metadata": {},
   "source": [
    "**Changing the object type to Date Datatype**"
   ]
  },
  {
   "cell_type": "code",
   "execution_count": 8,
   "metadata": {},
   "outputs": [],
   "source": [
    "df['MMM-YY']=pd.to_datetime(df['MMM-YY'])\n",
    "df['Dateofjoining']=pd.to_datetime(df['Dateofjoining'])\n"
   ]
  },
  {
   "cell_type": "code",
   "execution_count": 9,
   "metadata": {},
   "outputs": [
    {
     "name": "stdout",
     "output_type": "stream",
     "text": [
      "<class 'pandas.core.frame.DataFrame'>\n",
      "RangeIndex: 19104 entries, 0 to 19103\n",
      "Data columns (total 14 columns):\n",
      " #   Column                Non-Null Count  Dtype         \n",
      "---  ------                --------------  -----         \n",
      " 0   MMM-YY                19104 non-null  datetime64[ns]\n",
      " 1   Emp_ID                19104 non-null  int64         \n",
      " 2   Age                   19104 non-null  int64         \n",
      " 3   Gender                19104 non-null  object        \n",
      " 4   City                  19104 non-null  object        \n",
      " 5   Education_Level       19104 non-null  object        \n",
      " 6   Salary                19104 non-null  int64         \n",
      " 7   Dateofjoining         19104 non-null  datetime64[ns]\n",
      " 8   LastWorkingDate       1616 non-null   object        \n",
      " 9   Joining Designation   19104 non-null  int64         \n",
      " 10  Designation           19104 non-null  int64         \n",
      " 11  Total Business Value  19104 non-null  int64         \n",
      " 12  Quarterly Rating      19104 non-null  int64         \n",
      " 13  Target                19104 non-null  object        \n",
      "dtypes: datetime64[ns](2), int64(7), object(5)\n",
      "memory usage: 1.7+ MB\n"
     ]
    }
   ],
   "source": [
    "df.info()"
   ]
  },
  {
   "cell_type": "markdown",
   "metadata": {},
   "source": [
    "**Grouping the features based on Emp_ID**"
   ]
  },
  {
   "cell_type": "markdown",
   "metadata": {},
   "source": [
    "As there are same no. of Emp_ID in the data, We will use Groupby to group the same data points"
   ]
  },
  {
   "cell_type": "code",
   "execution_count": 10,
   "metadata": {},
   "outputs": [],
   "source": [
    "g=df.groupby('Emp_ID')['Emp_ID','Age','Gender','City','Education_Level','Salary','Joining Designation','Designation',\n",
    "                       'Quarterly Rating','Target'].tail(1)\n",
    "g.reset_index(drop=True,inplace=True)\n",
    "gg=df.groupby('Emp_ID').agg({'Total Business Value':'sum'})\n",
    "gg.reset_index(drop=True,inplace=True)\n",
    "df1=pd.concat([g,gg],axis=1,ignore_index=False)"
   ]
  },
  {
   "cell_type": "markdown",
   "metadata": {},
   "source": [
    "**Insight of the Response Variable**"
   ]
  },
  {
   "cell_type": "code",
   "execution_count": 11,
   "metadata": {},
   "outputs": [
    {
     "data": {
      "text/plain": [
       "YES    1616\n",
       "NO      765\n",
       "Name: Target, dtype: int64"
      ]
     },
     "execution_count": 11,
     "metadata": {},
     "output_type": "execute_result"
    }
   ],
   "source": [
    "df1['Target'].value_counts()"
   ]
  },
  {
   "cell_type": "code",
   "execution_count": 12,
   "metadata": {},
   "outputs": [
    {
     "data": {
      "image/png": "[encoded data removed]",
      "text/plain": [
       "<Figure size 432x288 with 1 Axes>"
      ]
     },
     "metadata": {
      "needs_background": "light"
     },
     "output_type": "display_data"
    }
   ],
   "source": [
    "sns.countplot(df1['Target'])\n",
    "plt.title('Target')\n",
    "plt.show()"
   ]
  },
  {
   "cell_type": "markdown",
   "metadata": {},
   "source": [
    "**The above plot shows the probability of haapening of the event**"
   ]
  },
  {
   "cell_type": "markdown",
   "metadata": {},
   "source": [
    "## Label Encoding"
   ]
  },
  {
   "cell_type": "code",
   "execution_count": 11,
   "metadata": {},
   "outputs": [],
   "source": [
    "from sklearn.preprocessing import LabelEncoder"
   ]
  },
  {
   "cell_type": "code",
   "execution_count": 12,
   "metadata": {},
   "outputs": [],
   "source": [
    "label=LabelEncoder()\n",
    "df1['Target']=label.fit_transform(df1['Target'])"
   ]
  },
  {
   "cell_type": "code",
   "execution_count": 13,
   "metadata": {},
   "outputs": [
    {
     "data": {
      "text/plain": [
       "1    1616\n",
       "0     765\n",
       "Name: Target, dtype: int64"
      ]
     },
     "execution_count": 13,
     "metadata": {},
     "output_type": "execute_result"
    }
   ],
   "source": [
    "df1['Target'].value_counts()"
   ]
  },
  {
   "cell_type": "code",
   "execution_count": 14,
   "metadata": {},
   "outputs": [],
   "source": [
    "df1['Gender']=label.fit_transform(df1['Gender'])\n",
    "df1['City']=label.fit_transform(df1['City'])\n",
    "df1['Education_Level']=label.fit_transform(df1['Education_Level'])\n"
   ]
  },
  {
   "cell_type": "markdown",
   "metadata": {},
   "source": [
    "**Extracting the numerical features from the Data**"
   ]
  },
  {
   "cell_type": "code",
   "execution_count": 15,
   "metadata": {},
   "outputs": [
    {
     "data": {
      "text/html": [
       "<div>\n",
       "<style scoped>\n",
       "    .dataframe tbody tr th:only-of-type {\n",
       "        vertical-align: middle;\n",
       "    }\n",
       "\n",
       "    .dataframe tbody tr th {\n",
       "        vertical-align: top;\n",
       "    }\n",
       "\n",
       "    .dataframe thead th {\n",
       "        text-align: right;\n",
       "    }\n",
       "</style>\n",
       "<table border=\"1\" class=\"dataframe\">\n",
       "  <thead>\n",
       "    <tr style=\"text-align: right;\">\n",
       "      <th></th>\n",
       "      <th>Age</th>\n",
       "      <th>City</th>\n",
       "      <th>Salary</th>\n",
       "      <th>Total Business Value</th>\n",
       "    </tr>\n",
       "  </thead>\n",
       "  <tbody>\n",
       "    <tr>\n",
       "      <th>0</th>\n",
       "      <td>28</td>\n",
       "      <td>15</td>\n",
       "      <td>57387</td>\n",
       "      <td>1715580</td>\n",
       "    </tr>\n",
       "    <tr>\n",
       "      <th>1</th>\n",
       "      <td>31</td>\n",
       "      <td>26</td>\n",
       "      <td>67016</td>\n",
       "      <td>0</td>\n",
       "    </tr>\n",
       "    <tr>\n",
       "      <th>2</th>\n",
       "      <td>43</td>\n",
       "      <td>4</td>\n",
       "      <td>65603</td>\n",
       "      <td>350000</td>\n",
       "    </tr>\n",
       "    <tr>\n",
       "      <th>3</th>\n",
       "      <td>29</td>\n",
       "      <td>28</td>\n",
       "      <td>46368</td>\n",
       "      <td>120360</td>\n",
       "    </tr>\n",
       "    <tr>\n",
       "      <th>4</th>\n",
       "      <td>31</td>\n",
       "      <td>2</td>\n",
       "      <td>78728</td>\n",
       "      <td>1265000</td>\n",
       "    </tr>\n",
       "    <tr>\n",
       "      <th>...</th>\n",
       "      <td>...</td>\n",
       "      <td>...</td>\n",
       "      <td>...</td>\n",
       "      <td>...</td>\n",
       "    </tr>\n",
       "    <tr>\n",
       "      <th>2376</th>\n",
       "      <td>34</td>\n",
       "      <td>16</td>\n",
       "      <td>82815</td>\n",
       "      <td>21748820</td>\n",
       "    </tr>\n",
       "    <tr>\n",
       "      <th>2377</th>\n",
       "      <td>34</td>\n",
       "      <td>28</td>\n",
       "      <td>12105</td>\n",
       "      <td>0</td>\n",
       "    </tr>\n",
       "    <tr>\n",
       "      <th>2378</th>\n",
       "      <td>45</td>\n",
       "      <td>10</td>\n",
       "      <td>35370</td>\n",
       "      <td>2815090</td>\n",
       "    </tr>\n",
       "    <tr>\n",
       "      <th>2379</th>\n",
       "      <td>28</td>\n",
       "      <td>12</td>\n",
       "      <td>69498</td>\n",
       "      <td>977830</td>\n",
       "    </tr>\n",
       "    <tr>\n",
       "      <th>2380</th>\n",
       "      <td>30</td>\n",
       "      <td>19</td>\n",
       "      <td>70254</td>\n",
       "      <td>2298240</td>\n",
       "    </tr>\n",
       "  </tbody>\n",
       "</table>\n",
       "<p>2381 rows × 4 columns</p>\n",
       "</div>"
      ],
      "text/plain": [
       "      Age  City  Salary  Total Business Value\n",
       "0      28    15   57387               1715580\n",
       "1      31    26   67016                     0\n",
       "2      43     4   65603                350000\n",
       "3      29    28   46368                120360\n",
       "4      31     2   78728               1265000\n",
       "...   ...   ...     ...                   ...\n",
       "2376   34    16   82815              21748820\n",
       "2377   34    28   12105                     0\n",
       "2378   45    10   35370               2815090\n",
       "2379   28    12   69498                977830\n",
       "2380   30    19   70254               2298240\n",
       "\n",
       "[2381 rows x 4 columns]"
      ]
     },
     "execution_count": 15,
     "metadata": {},
     "output_type": "execute_result"
    }
   ],
   "source": [
    "numerical=df1[['Age','City','Salary','Total Business Value']]\n",
    "numerical"
   ]
  },
  {
   "cell_type": "markdown",
   "metadata": {},
   "source": [
    "## StandardScaler "
   ]
  },
  {
   "cell_type": "markdown",
   "metadata": {},
   "source": [
    "**Standardizing the numerical features using StandardScaler**"
   ]
  },
  {
   "cell_type": "code",
   "execution_count": 16,
   "metadata": {},
   "outputs": [],
   "source": [
    "from sklearn.preprocessing import StandardScaler"
   ]
  },
  {
   "cell_type": "code",
   "execution_count": 17,
   "metadata": {},
   "outputs": [
    {
     "data": {
      "text/plain": [
       "array([[-0.94668243,  0.1121955 , -0.06861573, -0.31464103],\n",
       "       [-0.44518787,  1.44545878,  0.27069993, -0.50264571],\n",
       "       [ 1.56079034, -1.22106779,  0.22090732, -0.46429038],\n",
       "       ...,\n",
       "       [ 1.89512005, -0.49383327, -0.84447128, -0.1941494 ],\n",
       "       [-0.94668243, -0.25142176,  0.35816296, -0.39548858],\n",
       "       [-0.61235272,  0.59701851,  0.38480359, -0.25078927]])"
      ]
     },
     "execution_count": 17,
     "metadata": {},
     "output_type": "execute_result"
    }
   ],
   "source": [
    "scaler=StandardScaler()\n",
    "numerical=scaler.fit_transform(numerical)\n",
    "numerical"
   ]
  },
  {
   "cell_type": "markdown",
   "metadata": {},
   "source": [
    "**After applying Standard scaler the values will be tranformed between the range (-1 to 1) and stored in an array.To do further process need to convert array into DataFrame**"
   ]
  },
  {
   "cell_type": "code",
   "execution_count": 18,
   "metadata": {},
   "outputs": [
    {
     "data": {
      "text/html": [
       "<div>\n",
       "<style scoped>\n",
       "    .dataframe tbody tr th:only-of-type {\n",
       "        vertical-align: middle;\n",
       "    }\n",
       "\n",
       "    .dataframe tbody tr th {\n",
       "        vertical-align: top;\n",
       "    }\n",
       "\n",
       "    .dataframe thead th {\n",
       "        text-align: right;\n",
       "    }\n",
       "</style>\n",
       "<table border=\"1\" class=\"dataframe\">\n",
       "  <thead>\n",
       "    <tr style=\"text-align: right;\">\n",
       "      <th></th>\n",
       "      <th>Age</th>\n",
       "      <th>City</th>\n",
       "      <th>Salary</th>\n",
       "      <th>Total Business Value</th>\n",
       "    </tr>\n",
       "  </thead>\n",
       "  <tbody>\n",
       "    <tr>\n",
       "      <th>0</th>\n",
       "      <td>-0.946682</td>\n",
       "      <td>0.112195</td>\n",
       "      <td>-0.068616</td>\n",
       "      <td>-0.314641</td>\n",
       "    </tr>\n",
       "    <tr>\n",
       "      <th>1</th>\n",
       "      <td>-0.445188</td>\n",
       "      <td>1.445459</td>\n",
       "      <td>0.270700</td>\n",
       "      <td>-0.502646</td>\n",
       "    </tr>\n",
       "    <tr>\n",
       "      <th>2</th>\n",
       "      <td>1.560790</td>\n",
       "      <td>-1.221068</td>\n",
       "      <td>0.220907</td>\n",
       "      <td>-0.464290</td>\n",
       "    </tr>\n",
       "    <tr>\n",
       "      <th>3</th>\n",
       "      <td>-0.779518</td>\n",
       "      <td>1.687870</td>\n",
       "      <td>-0.456914</td>\n",
       "      <td>-0.489456</td>\n",
       "    </tr>\n",
       "    <tr>\n",
       "      <th>4</th>\n",
       "      <td>-0.445188</td>\n",
       "      <td>-1.463479</td>\n",
       "      <td>0.683418</td>\n",
       "      <td>-0.364019</td>\n",
       "    </tr>\n",
       "    <tr>\n",
       "      <th>...</th>\n",
       "      <td>...</td>\n",
       "      <td>...</td>\n",
       "      <td>...</td>\n",
       "      <td>...</td>\n",
       "    </tr>\n",
       "    <tr>\n",
       "      <th>2376</th>\n",
       "      <td>0.056307</td>\n",
       "      <td>0.233401</td>\n",
       "      <td>0.827440</td>\n",
       "      <td>1.880735</td>\n",
       "    </tr>\n",
       "    <tr>\n",
       "      <th>2377</th>\n",
       "      <td>0.056307</td>\n",
       "      <td>1.687870</td>\n",
       "      <td>-1.664305</td>\n",
       "      <td>-0.502646</td>\n",
       "    </tr>\n",
       "    <tr>\n",
       "      <th>2378</th>\n",
       "      <td>1.895120</td>\n",
       "      <td>-0.493833</td>\n",
       "      <td>-0.844471</td>\n",
       "      <td>-0.194149</td>\n",
       "    </tr>\n",
       "    <tr>\n",
       "      <th>2379</th>\n",
       "      <td>-0.946682</td>\n",
       "      <td>-0.251422</td>\n",
       "      <td>0.358163</td>\n",
       "      <td>-0.395489</td>\n",
       "    </tr>\n",
       "    <tr>\n",
       "      <th>2380</th>\n",
       "      <td>-0.612353</td>\n",
       "      <td>0.597019</td>\n",
       "      <td>0.384804</td>\n",
       "      <td>-0.250789</td>\n",
       "    </tr>\n",
       "  </tbody>\n",
       "</table>\n",
       "<p>2381 rows × 4 columns</p>\n",
       "</div>"
      ],
      "text/plain": [
       "           Age      City    Salary  Total Business Value\n",
       "0    -0.946682  0.112195 -0.068616             -0.314641\n",
       "1    -0.445188  1.445459  0.270700             -0.502646\n",
       "2     1.560790 -1.221068  0.220907             -0.464290\n",
       "3    -0.779518  1.687870 -0.456914             -0.489456\n",
       "4    -0.445188 -1.463479  0.683418             -0.364019\n",
       "...        ...       ...       ...                   ...\n",
       "2376  0.056307  0.233401  0.827440              1.880735\n",
       "2377  0.056307  1.687870 -1.664305             -0.502646\n",
       "2378  1.895120 -0.493833 -0.844471             -0.194149\n",
       "2379 -0.946682 -0.251422  0.358163             -0.395489\n",
       "2380 -0.612353  0.597019  0.384804             -0.250789\n",
       "\n",
       "[2381 rows x 4 columns]"
      ]
     },
     "execution_count": 18,
     "metadata": {},
     "output_type": "execute_result"
    }
   ],
   "source": [
    "numerical=pd.DataFrame(numerical,columns=['Age','City','Salary','Total Business Value'])\n",
    "numerical"
   ]
  },
  {
   "cell_type": "code",
   "execution_count": 19,
   "metadata": {},
   "outputs": [
    {
     "data": {
      "text/html": [
       "<div>\n",
       "<style scoped>\n",
       "    .dataframe tbody tr th:only-of-type {\n",
       "        vertical-align: middle;\n",
       "    }\n",
       "\n",
       "    .dataframe tbody tr th {\n",
       "        vertical-align: top;\n",
       "    }\n",
       "\n",
       "    .dataframe thead th {\n",
       "        text-align: right;\n",
       "    }\n",
       "</style>\n",
       "<table border=\"1\" class=\"dataframe\">\n",
       "  <thead>\n",
       "    <tr style=\"text-align: right;\">\n",
       "      <th></th>\n",
       "      <th>Emp_ID</th>\n",
       "      <th>Gender</th>\n",
       "      <th>Education_Level</th>\n",
       "      <th>Joining Designation</th>\n",
       "      <th>Designation</th>\n",
       "      <th>Quarterly Rating</th>\n",
       "      <th>Target</th>\n",
       "    </tr>\n",
       "  </thead>\n",
       "  <tbody>\n",
       "    <tr>\n",
       "      <th>0</th>\n",
       "      <td>1</td>\n",
       "      <td>1</td>\n",
       "      <td>2</td>\n",
       "      <td>1</td>\n",
       "      <td>1</td>\n",
       "      <td>2</td>\n",
       "      <td>1</td>\n",
       "    </tr>\n",
       "    <tr>\n",
       "      <th>1</th>\n",
       "      <td>2</td>\n",
       "      <td>1</td>\n",
       "      <td>2</td>\n",
       "      <td>2</td>\n",
       "      <td>2</td>\n",
       "      <td>1</td>\n",
       "      <td>0</td>\n",
       "    </tr>\n",
       "    <tr>\n",
       "      <th>2</th>\n",
       "      <td>4</td>\n",
       "      <td>1</td>\n",
       "      <td>2</td>\n",
       "      <td>2</td>\n",
       "      <td>2</td>\n",
       "      <td>1</td>\n",
       "      <td>1</td>\n",
       "    </tr>\n",
       "    <tr>\n",
       "      <th>3</th>\n",
       "      <td>5</td>\n",
       "      <td>1</td>\n",
       "      <td>1</td>\n",
       "      <td>1</td>\n",
       "      <td>1</td>\n",
       "      <td>1</td>\n",
       "      <td>1</td>\n",
       "    </tr>\n",
       "    <tr>\n",
       "      <th>4</th>\n",
       "      <td>6</td>\n",
       "      <td>0</td>\n",
       "      <td>0</td>\n",
       "      <td>3</td>\n",
       "      <td>3</td>\n",
       "      <td>2</td>\n",
       "      <td>0</td>\n",
       "    </tr>\n",
       "    <tr>\n",
       "      <th>...</th>\n",
       "      <td>...</td>\n",
       "      <td>...</td>\n",
       "      <td>...</td>\n",
       "      <td>...</td>\n",
       "      <td>...</td>\n",
       "      <td>...</td>\n",
       "      <td>...</td>\n",
       "    </tr>\n",
       "    <tr>\n",
       "      <th>2376</th>\n",
       "      <td>2784</td>\n",
       "      <td>1</td>\n",
       "      <td>1</td>\n",
       "      <td>2</td>\n",
       "      <td>3</td>\n",
       "      <td>4</td>\n",
       "      <td>0</td>\n",
       "    </tr>\n",
       "    <tr>\n",
       "      <th>2377</th>\n",
       "      <td>2785</td>\n",
       "      <td>0</td>\n",
       "      <td>1</td>\n",
       "      <td>1</td>\n",
       "      <td>1</td>\n",
       "      <td>1</td>\n",
       "      <td>1</td>\n",
       "    </tr>\n",
       "    <tr>\n",
       "      <th>2378</th>\n",
       "      <td>2786</td>\n",
       "      <td>1</td>\n",
       "      <td>1</td>\n",
       "      <td>2</td>\n",
       "      <td>2</td>\n",
       "      <td>1</td>\n",
       "      <td>1</td>\n",
       "    </tr>\n",
       "    <tr>\n",
       "      <th>2379</th>\n",
       "      <td>2787</td>\n",
       "      <td>0</td>\n",
       "      <td>2</td>\n",
       "      <td>1</td>\n",
       "      <td>1</td>\n",
       "      <td>1</td>\n",
       "      <td>1</td>\n",
       "    </tr>\n",
       "    <tr>\n",
       "      <th>2380</th>\n",
       "      <td>2788</td>\n",
       "      <td>1</td>\n",
       "      <td>2</td>\n",
       "      <td>2</td>\n",
       "      <td>2</td>\n",
       "      <td>2</td>\n",
       "      <td>0</td>\n",
       "    </tr>\n",
       "  </tbody>\n",
       "</table>\n",
       "<p>2381 rows × 7 columns</p>\n",
       "</div>"
      ],
      "text/plain": [
       "      Emp_ID  Gender  Education_Level  Joining Designation  Designation  \\\n",
       "0          1       1                2                    1            1   \n",
       "1          2       1                2                    2            2   \n",
       "2          4       1                2                    2            2   \n",
       "3          5       1                1                    1            1   \n",
       "4          6       0                0                    3            3   \n",
       "...      ...     ...              ...                  ...          ...   \n",
       "2376    2784       1                1                    2            3   \n",
       "2377    2785       0                1                    1            1   \n",
       "2378    2786       1                1                    2            2   \n",
       "2379    2787       0                2                    1            1   \n",
       "2380    2788       1                2                    2            2   \n",
       "\n",
       "      Quarterly Rating  Target  \n",
       "0                    2       1  \n",
       "1                    1       0  \n",
       "2                    1       1  \n",
       "3                    1       1  \n",
       "4                    2       0  \n",
       "...                ...     ...  \n",
       "2376                 4       0  \n",
       "2377                 1       1  \n",
       "2378                 1       1  \n",
       "2379                 1       1  \n",
       "2380                 2       0  \n",
       "\n",
       "[2381 rows x 7 columns]"
      ]
     },
     "execution_count": 19,
     "metadata": {},
     "output_type": "execute_result"
    }
   ],
   "source": [
    "df2=df1.drop(['Age','City','Salary','Total Business Value'],axis=1)\n",
    "df2=pd.DataFrame(df2)\n",
    "df2"
   ]
  },
  {
   "cell_type": "markdown",
   "metadata": {},
   "source": [
    "**Creating a new DataFrame using Standardized variables and the Categorical variables**"
   ]
  },
  {
   "cell_type": "code",
   "execution_count": 20,
   "metadata": {},
   "outputs": [
    {
     "data": {
      "text/html": [
       "<div>\n",
       "<style scoped>\n",
       "    .dataframe tbody tr th:only-of-type {\n",
       "        vertical-align: middle;\n",
       "    }\n",
       "\n",
       "    .dataframe tbody tr th {\n",
       "        vertical-align: top;\n",
       "    }\n",
       "\n",
       "    .dataframe thead th {\n",
       "        text-align: right;\n",
       "    }\n",
       "</style>\n",
       "<table border=\"1\" class=\"dataframe\">\n",
       "  <thead>\n",
       "    <tr style=\"text-align: right;\">\n",
       "      <th></th>\n",
       "      <th>Age</th>\n",
       "      <th>City</th>\n",
       "      <th>Salary</th>\n",
       "      <th>Total Business Value</th>\n",
       "      <th>Emp_ID</th>\n",
       "      <th>Gender</th>\n",
       "      <th>Education_Level</th>\n",
       "      <th>Joining Designation</th>\n",
       "      <th>Designation</th>\n",
       "      <th>Quarterly Rating</th>\n",
       "      <th>Target</th>\n",
       "    </tr>\n",
       "  </thead>\n",
       "  <tbody>\n",
       "    <tr>\n",
       "      <th>0</th>\n",
       "      <td>-0.946682</td>\n",
       "      <td>0.112195</td>\n",
       "      <td>-0.068616</td>\n",
       "      <td>-0.314641</td>\n",
       "      <td>1</td>\n",
       "      <td>1</td>\n",
       "      <td>2</td>\n",
       "      <td>1</td>\n",
       "      <td>1</td>\n",
       "      <td>2</td>\n",
       "      <td>1</td>\n",
       "    </tr>\n",
       "    <tr>\n",
       "      <th>1</th>\n",
       "      <td>-0.445188</td>\n",
       "      <td>1.445459</td>\n",
       "      <td>0.270700</td>\n",
       "      <td>-0.502646</td>\n",
       "      <td>2</td>\n",
       "      <td>1</td>\n",
       "      <td>2</td>\n",
       "      <td>2</td>\n",
       "      <td>2</td>\n",
       "      <td>1</td>\n",
       "      <td>0</td>\n",
       "    </tr>\n",
       "    <tr>\n",
       "      <th>2</th>\n",
       "      <td>1.560790</td>\n",
       "      <td>-1.221068</td>\n",
       "      <td>0.220907</td>\n",
       "      <td>-0.464290</td>\n",
       "      <td>4</td>\n",
       "      <td>1</td>\n",
       "      <td>2</td>\n",
       "      <td>2</td>\n",
       "      <td>2</td>\n",
       "      <td>1</td>\n",
       "      <td>1</td>\n",
       "    </tr>\n",
       "    <tr>\n",
       "      <th>3</th>\n",
       "      <td>-0.779518</td>\n",
       "      <td>1.687870</td>\n",
       "      <td>-0.456914</td>\n",
       "      <td>-0.489456</td>\n",
       "      <td>5</td>\n",
       "      <td>1</td>\n",
       "      <td>1</td>\n",
       "      <td>1</td>\n",
       "      <td>1</td>\n",
       "      <td>1</td>\n",
       "      <td>1</td>\n",
       "    </tr>\n",
       "    <tr>\n",
       "      <th>4</th>\n",
       "      <td>-0.445188</td>\n",
       "      <td>-1.463479</td>\n",
       "      <td>0.683418</td>\n",
       "      <td>-0.364019</td>\n",
       "      <td>6</td>\n",
       "      <td>0</td>\n",
       "      <td>0</td>\n",
       "      <td>3</td>\n",
       "      <td>3</td>\n",
       "      <td>2</td>\n",
       "      <td>0</td>\n",
       "    </tr>\n",
       "    <tr>\n",
       "      <th>...</th>\n",
       "      <td>...</td>\n",
       "      <td>...</td>\n",
       "      <td>...</td>\n",
       "      <td>...</td>\n",
       "      <td>...</td>\n",
       "      <td>...</td>\n",
       "      <td>...</td>\n",
       "      <td>...</td>\n",
       "      <td>...</td>\n",
       "      <td>...</td>\n",
       "      <td>...</td>\n",
       "    </tr>\n",
       "    <tr>\n",
       "      <th>2376</th>\n",
       "      <td>0.056307</td>\n",
       "      <td>0.233401</td>\n",
       "      <td>0.827440</td>\n",
       "      <td>1.880735</td>\n",
       "      <td>2784</td>\n",
       "      <td>1</td>\n",
       "      <td>1</td>\n",
       "      <td>2</td>\n",
       "      <td>3</td>\n",
       "      <td>4</td>\n",
       "      <td>0</td>\n",
       "    </tr>\n",
       "    <tr>\n",
       "      <th>2377</th>\n",
       "      <td>0.056307</td>\n",
       "      <td>1.687870</td>\n",
       "      <td>-1.664305</td>\n",
       "      <td>-0.502646</td>\n",
       "      <td>2785</td>\n",
       "      <td>0</td>\n",
       "      <td>1</td>\n",
       "      <td>1</td>\n",
       "      <td>1</td>\n",
       "      <td>1</td>\n",
       "      <td>1</td>\n",
       "    </tr>\n",
       "    <tr>\n",
       "      <th>2378</th>\n",
       "      <td>1.895120</td>\n",
       "      <td>-0.493833</td>\n",
       "      <td>-0.844471</td>\n",
       "      <td>-0.194149</td>\n",
       "      <td>2786</td>\n",
       "      <td>1</td>\n",
       "      <td>1</td>\n",
       "      <td>2</td>\n",
       "      <td>2</td>\n",
       "      <td>1</td>\n",
       "      <td>1</td>\n",
       "    </tr>\n",
       "    <tr>\n",
       "      <th>2379</th>\n",
       "      <td>-0.946682</td>\n",
       "      <td>-0.251422</td>\n",
       "      <td>0.358163</td>\n",
       "      <td>-0.395489</td>\n",
       "      <td>2787</td>\n",
       "      <td>0</td>\n",
       "      <td>2</td>\n",
       "      <td>1</td>\n",
       "      <td>1</td>\n",
       "      <td>1</td>\n",
       "      <td>1</td>\n",
       "    </tr>\n",
       "    <tr>\n",
       "      <th>2380</th>\n",
       "      <td>-0.612353</td>\n",
       "      <td>0.597019</td>\n",
       "      <td>0.384804</td>\n",
       "      <td>-0.250789</td>\n",
       "      <td>2788</td>\n",
       "      <td>1</td>\n",
       "      <td>2</td>\n",
       "      <td>2</td>\n",
       "      <td>2</td>\n",
       "      <td>2</td>\n",
       "      <td>0</td>\n",
       "    </tr>\n",
       "  </tbody>\n",
       "</table>\n",
       "<p>2381 rows × 11 columns</p>\n",
       "</div>"
      ],
      "text/plain": [
       "           Age      City    Salary  Total Business Value  Emp_ID  Gender  \\\n",
       "0    -0.946682  0.112195 -0.068616             -0.314641       1       1   \n",
       "1    -0.445188  1.445459  0.270700             -0.502646       2       1   \n",
       "2     1.560790 -1.221068  0.220907             -0.464290       4       1   \n",
       "3    -0.779518  1.687870 -0.456914             -0.489456       5       1   \n",
       "4    -0.445188 -1.463479  0.683418             -0.364019       6       0   \n",
       "...        ...       ...       ...                   ...     ...     ...   \n",
       "2376  0.056307  0.233401  0.827440              1.880735    2784       1   \n",
       "2377  0.056307  1.687870 -1.664305             -0.502646    2785       0   \n",
       "2378  1.895120 -0.493833 -0.844471             -0.194149    2786       1   \n",
       "2379 -0.946682 -0.251422  0.358163             -0.395489    2787       0   \n",
       "2380 -0.612353  0.597019  0.384804             -0.250789    2788       1   \n",
       "\n",
       "      Education_Level  Joining Designation  Designation  Quarterly Rating  \\\n",
       "0                   2                    1            1                 2   \n",
       "1                   2                    2            2                 1   \n",
       "2                   2                    2            2                 1   \n",
       "3                   1                    1            1                 1   \n",
       "4                   0                    3            3                 2   \n",
       "...               ...                  ...          ...               ...   \n",
       "2376                1                    2            3                 4   \n",
       "2377                1                    1            1                 1   \n",
       "2378                1                    2            2                 1   \n",
       "2379                2                    1            1                 1   \n",
       "2380                2                    2            2                 2   \n",
       "\n",
       "      Target  \n",
       "0          1  \n",
       "1          0  \n",
       "2          1  \n",
       "3          1  \n",
       "4          0  \n",
       "...      ...  \n",
       "2376       0  \n",
       "2377       1  \n",
       "2378       1  \n",
       "2379       1  \n",
       "2380       0  \n",
       "\n",
       "[2381 rows x 11 columns]"
      ]
     },
     "execution_count": 20,
     "metadata": {},
     "output_type": "execute_result"
    }
   ],
   "source": [
    "df3=pd.concat([numerical,df2],axis=1)\n",
    "df3"
   ]
  },
  {
   "cell_type": "markdown",
   "metadata": {},
   "source": [
    "**SMOTE**"
   ]
  },
  {
   "cell_type": "markdown",
   "metadata": {},
   "source": [
    "**The no. of records where the target variable is 0 is less, we use smote technique to balance the data**"
   ]
  },
  {
   "cell_type": "code",
   "execution_count": 21,
   "metadata": {},
   "outputs": [
    {
     "data": {
      "text/plain": [
       "765"
      ]
     },
     "execution_count": 21,
     "metadata": {},
     "output_type": "execute_result"
    }
   ],
   "source": [
    "not_default = df3[df3.Target==0]\n",
    "len(not_default)"
   ]
  },
  {
   "cell_type": "code",
   "execution_count": 22,
   "metadata": {},
   "outputs": [
    {
     "data": {
      "text/plain": [
       "1616"
      ]
     },
     "execution_count": 22,
     "metadata": {},
     "output_type": "execute_result"
    }
   ],
   "source": [
    "default = df3[df3.Target==1] \n",
    "len(default)"
   ]
  },
  {
   "cell_type": "code",
   "execution_count": 23,
   "metadata": {},
   "outputs": [
    {
     "data": {
      "text/html": [
       "<div>\n",
       "<style scoped>\n",
       "    .dataframe tbody tr th:only-of-type {\n",
       "        vertical-align: middle;\n",
       "    }\n",
       "\n",
       "    .dataframe tbody tr th {\n",
       "        vertical-align: top;\n",
       "    }\n",
       "\n",
       "    .dataframe thead th {\n",
       "        text-align: right;\n",
       "    }\n",
       "</style>\n",
       "<table border=\"1\" class=\"dataframe\">\n",
       "  <thead>\n",
       "    <tr style=\"text-align: right;\">\n",
       "      <th></th>\n",
       "      <th>Age</th>\n",
       "      <th>City</th>\n",
       "      <th>Salary</th>\n",
       "      <th>Total Business Value</th>\n",
       "      <th>Emp_ID</th>\n",
       "      <th>Gender</th>\n",
       "      <th>Education_Level</th>\n",
       "      <th>Joining Designation</th>\n",
       "      <th>Designation</th>\n",
       "      <th>Quarterly Rating</th>\n",
       "      <th>Target</th>\n",
       "    </tr>\n",
       "  </thead>\n",
       "  <tbody>\n",
       "    <tr>\n",
       "      <th>1562</th>\n",
       "      <td>-0.946682</td>\n",
       "      <td>1.445459</td>\n",
       "      <td>-1.312268</td>\n",
       "      <td>-0.491470</td>\n",
       "      <td>1838</td>\n",
       "      <td>0</td>\n",
       "      <td>2</td>\n",
       "      <td>1</td>\n",
       "      <td>1</td>\n",
       "      <td>1</td>\n",
       "      <td>1</td>\n",
       "    </tr>\n",
       "    <tr>\n",
       "      <th>823</th>\n",
       "      <td>1.393625</td>\n",
       "      <td>-0.251422</td>\n",
       "      <td>0.534992</td>\n",
       "      <td>-0.099789</td>\n",
       "      <td>965</td>\n",
       "      <td>1</td>\n",
       "      <td>2</td>\n",
       "      <td>1</td>\n",
       "      <td>2</td>\n",
       "      <td>1</td>\n",
       "      <td>1</td>\n",
       "    </tr>\n",
       "    <tr>\n",
       "      <th>1141</th>\n",
       "      <td>0.390636</td>\n",
       "      <td>0.475813</td>\n",
       "      <td>0.566742</td>\n",
       "      <td>0.389104</td>\n",
       "      <td>1343</td>\n",
       "      <td>0</td>\n",
       "      <td>0</td>\n",
       "      <td>2</td>\n",
       "      <td>3</td>\n",
       "      <td>1</td>\n",
       "      <td>1</td>\n",
       "    </tr>\n",
       "    <tr>\n",
       "      <th>1951</th>\n",
       "      <td>-0.445188</td>\n",
       "      <td>-0.251422</td>\n",
       "      <td>-0.654533</td>\n",
       "      <td>-0.480492</td>\n",
       "      <td>2288</td>\n",
       "      <td>1</td>\n",
       "      <td>1</td>\n",
       "      <td>1</td>\n",
       "      <td>1</td>\n",
       "      <td>1</td>\n",
       "      <td>1</td>\n",
       "    </tr>\n",
       "    <tr>\n",
       "      <th>1570</th>\n",
       "      <td>0.892131</td>\n",
       "      <td>0.960636</td>\n",
       "      <td>-0.628316</td>\n",
       "      <td>-0.502646</td>\n",
       "      <td>1846</td>\n",
       "      <td>0</td>\n",
       "      <td>0</td>\n",
       "      <td>2</td>\n",
       "      <td>2</td>\n",
       "      <td>1</td>\n",
       "      <td>1</td>\n",
       "    </tr>\n",
       "    <tr>\n",
       "      <th>...</th>\n",
       "      <td>...</td>\n",
       "      <td>...</td>\n",
       "      <td>...</td>\n",
       "      <td>...</td>\n",
       "      <td>...</td>\n",
       "      <td>...</td>\n",
       "      <td>...</td>\n",
       "      <td>...</td>\n",
       "      <td>...</td>\n",
       "      <td>...</td>\n",
       "      <td>...</td>\n",
       "    </tr>\n",
       "    <tr>\n",
       "      <th>1026</th>\n",
       "      <td>-0.946682</td>\n",
       "      <td>0.233401</td>\n",
       "      <td>-0.099943</td>\n",
       "      <td>-0.502646</td>\n",
       "      <td>1207</td>\n",
       "      <td>1</td>\n",
       "      <td>1</td>\n",
       "      <td>2</td>\n",
       "      <td>2</td>\n",
       "      <td>1</td>\n",
       "      <td>1</td>\n",
       "    </tr>\n",
       "    <tr>\n",
       "      <th>1702</th>\n",
       "      <td>0.223472</td>\n",
       "      <td>1.324253</td>\n",
       "      <td>1.391474</td>\n",
       "      <td>2.178054</td>\n",
       "      <td>2002</td>\n",
       "      <td>1</td>\n",
       "      <td>0</td>\n",
       "      <td>2</td>\n",
       "      <td>4</td>\n",
       "      <td>1</td>\n",
       "      <td>1</td>\n",
       "    </tr>\n",
       "    <tr>\n",
       "      <th>309</th>\n",
       "      <td>-1.113847</td>\n",
       "      <td>-1.221068</td>\n",
       "      <td>-0.831891</td>\n",
       "      <td>-0.452656</td>\n",
       "      <td>364</td>\n",
       "      <td>1</td>\n",
       "      <td>2</td>\n",
       "      <td>1</td>\n",
       "      <td>1</td>\n",
       "      <td>1</td>\n",
       "      <td>1</td>\n",
       "    </tr>\n",
       "    <tr>\n",
       "      <th>1111</th>\n",
       "      <td>0.390636</td>\n",
       "      <td>0.839430</td>\n",
       "      <td>-0.046063</td>\n",
       "      <td>-0.502646</td>\n",
       "      <td>1308</td>\n",
       "      <td>1</td>\n",
       "      <td>1</td>\n",
       "      <td>3</td>\n",
       "      <td>3</td>\n",
       "      <td>1</td>\n",
       "      <td>1</td>\n",
       "    </tr>\n",
       "    <tr>\n",
       "      <th>645</th>\n",
       "      <td>-0.779518</td>\n",
       "      <td>1.081842</td>\n",
       "      <td>-0.065479</td>\n",
       "      <td>-0.449122</td>\n",
       "      <td>756</td>\n",
       "      <td>0</td>\n",
       "      <td>0</td>\n",
       "      <td>3</td>\n",
       "      <td>3</td>\n",
       "      <td>1</td>\n",
       "      <td>1</td>\n",
       "    </tr>\n",
       "  </tbody>\n",
       "</table>\n",
       "<p>765 rows × 11 columns</p>\n",
       "</div>"
      ],
      "text/plain": [
       "           Age      City    Salary  Total Business Value  Emp_ID  Gender  \\\n",
       "1562 -0.946682  1.445459 -1.312268             -0.491470    1838       0   \n",
       "823   1.393625 -0.251422  0.534992             -0.099789     965       1   \n",
       "1141  0.390636  0.475813  0.566742              0.389104    1343       0   \n",
       "1951 -0.445188 -0.251422 -0.654533             -0.480492    2288       1   \n",
       "1570  0.892131  0.960636 -0.628316             -0.502646    1846       0   \n",
       "...        ...       ...       ...                   ...     ...     ...   \n",
       "1026 -0.946682  0.233401 -0.099943             -0.502646    1207       1   \n",
       "1702  0.223472  1.324253  1.391474              2.178054    2002       1   \n",
       "309  -1.113847 -1.221068 -0.831891             -0.452656     364       1   \n",
       "1111  0.390636  0.839430 -0.046063             -0.502646    1308       1   \n",
       "645  -0.779518  1.081842 -0.065479             -0.449122     756       0   \n",
       "\n",
       "      Education_Level  Joining Designation  Designation  Quarterly Rating  \\\n",
       "1562                2                    1            1                 1   \n",
       "823                 2                    1            2                 1   \n",
       "1141                0                    2            3                 1   \n",
       "1951                1                    1            1                 1   \n",
       "1570                0                    2            2                 1   \n",
       "...               ...                  ...          ...               ...   \n",
       "1026                1                    2            2                 1   \n",
       "1702                0                    2            4                 1   \n",
       "309                 2                    1            1                 1   \n",
       "1111                1                    3            3                 1   \n",
       "645                 0                    3            3                 1   \n",
       "\n",
       "      Target  \n",
       "1562       1  \n",
       "823        1  \n",
       "1141       1  \n",
       "1951       1  \n",
       "1570       1  \n",
       "...      ...  \n",
       "1026       1  \n",
       "1702       1  \n",
       "309        1  \n",
       "1111       1  \n",
       "645        1  \n",
       "\n",
       "[765 rows x 11 columns]"
      ]
     },
     "execution_count": 23,
     "metadata": {},
     "output_type": "execute_result"
    }
   ],
   "source": [
    "from sklearn.utils import resample\n",
    "default_upsampled = resample(default,\n",
    "                          replace=True, # sample with replacement\n",
    "                          n_samples=len(not_default), # match number in majority class, ie 11\n",
    "                          random_state=27) # reproducible results\n",
    "default_upsampled"
   ]
  },
  {
   "cell_type": "markdown",
   "metadata": {},
   "source": [
    "**Creating a new DataFrame by concatenating the sampled values**"
   ]
  },
  {
   "cell_type": "code",
   "execution_count": 24,
   "metadata": {},
   "outputs": [
    {
     "data": {
      "text/html": [
       "<div>\n",
       "<style scoped>\n",
       "    .dataframe tbody tr th:only-of-type {\n",
       "        vertical-align: middle;\n",
       "    }\n",
       "\n",
       "    .dataframe tbody tr th {\n",
       "        vertical-align: top;\n",
       "    }\n",
       "\n",
       "    .dataframe thead th {\n",
       "        text-align: right;\n",
       "    }\n",
       "</style>\n",
       "<table border=\"1\" class=\"dataframe\">\n",
       "  <thead>\n",
       "    <tr style=\"text-align: right;\">\n",
       "      <th></th>\n",
       "      <th>Age</th>\n",
       "      <th>City</th>\n",
       "      <th>Salary</th>\n",
       "      <th>Total Business Value</th>\n",
       "      <th>Emp_ID</th>\n",
       "      <th>Gender</th>\n",
       "      <th>Education_Level</th>\n",
       "      <th>Joining Designation</th>\n",
       "      <th>Designation</th>\n",
       "      <th>Quarterly Rating</th>\n",
       "      <th>Target</th>\n",
       "    </tr>\n",
       "  </thead>\n",
       "  <tbody>\n",
       "    <tr>\n",
       "      <th>1</th>\n",
       "      <td>-0.445188</td>\n",
       "      <td>1.445459</td>\n",
       "      <td>0.270700</td>\n",
       "      <td>-0.502646</td>\n",
       "      <td>2</td>\n",
       "      <td>1</td>\n",
       "      <td>2</td>\n",
       "      <td>2</td>\n",
       "      <td>2</td>\n",
       "      <td>1</td>\n",
       "      <td>0</td>\n",
       "    </tr>\n",
       "    <tr>\n",
       "      <th>4</th>\n",
       "      <td>-0.445188</td>\n",
       "      <td>-1.463479</td>\n",
       "      <td>0.683418</td>\n",
       "      <td>-0.364019</td>\n",
       "      <td>6</td>\n",
       "      <td>0</td>\n",
       "      <td>0</td>\n",
       "      <td>3</td>\n",
       "      <td>3</td>\n",
       "      <td>2</td>\n",
       "      <td>0</td>\n",
       "    </tr>\n",
       "    <tr>\n",
       "      <th>6</th>\n",
       "      <td>-0.946682</td>\n",
       "      <td>-0.493833</td>\n",
       "      <td>-0.604776</td>\n",
       "      <td>-0.502646</td>\n",
       "      <td>11</td>\n",
       "      <td>0</td>\n",
       "      <td>2</td>\n",
       "      <td>1</td>\n",
       "      <td>1</td>\n",
       "      <td>1</td>\n",
       "      <td>0</td>\n",
       "    </tr>\n",
       "    <tr>\n",
       "      <th>9</th>\n",
       "      <td>0.892131</td>\n",
       "      <td>0.475813</td>\n",
       "      <td>-1.395467</td>\n",
       "      <td>-0.502646</td>\n",
       "      <td>14</td>\n",
       "      <td>0</td>\n",
       "      <td>1</td>\n",
       "      <td>3</td>\n",
       "      <td>3</td>\n",
       "      <td>1</td>\n",
       "      <td>0</td>\n",
       "    </tr>\n",
       "    <tr>\n",
       "      <th>17</th>\n",
       "      <td>-0.445188</td>\n",
       "      <td>0.233401</td>\n",
       "      <td>1.506212</td>\n",
       "      <td>3.480951</td>\n",
       "      <td>25</td>\n",
       "      <td>1</td>\n",
       "      <td>0</td>\n",
       "      <td>1</td>\n",
       "      <td>3</td>\n",
       "      <td>4</td>\n",
       "      <td>0</td>\n",
       "    </tr>\n",
       "    <tr>\n",
       "      <th>...</th>\n",
       "      <td>...</td>\n",
       "      <td>...</td>\n",
       "      <td>...</td>\n",
       "      <td>...</td>\n",
       "      <td>...</td>\n",
       "      <td>...</td>\n",
       "      <td>...</td>\n",
       "      <td>...</td>\n",
       "      <td>...</td>\n",
       "      <td>...</td>\n",
       "      <td>...</td>\n",
       "    </tr>\n",
       "    <tr>\n",
       "      <th>1026</th>\n",
       "      <td>-0.946682</td>\n",
       "      <td>0.233401</td>\n",
       "      <td>-0.099943</td>\n",
       "      <td>-0.502646</td>\n",
       "      <td>1207</td>\n",
       "      <td>1</td>\n",
       "      <td>1</td>\n",
       "      <td>2</td>\n",
       "      <td>2</td>\n",
       "      <td>1</td>\n",
       "      <td>1</td>\n",
       "    </tr>\n",
       "    <tr>\n",
       "      <th>1702</th>\n",
       "      <td>0.223472</td>\n",
       "      <td>1.324253</td>\n",
       "      <td>1.391474</td>\n",
       "      <td>2.178054</td>\n",
       "      <td>2002</td>\n",
       "      <td>1</td>\n",
       "      <td>0</td>\n",
       "      <td>2</td>\n",
       "      <td>4</td>\n",
       "      <td>1</td>\n",
       "      <td>1</td>\n",
       "    </tr>\n",
       "    <tr>\n",
       "      <th>309</th>\n",
       "      <td>-1.113847</td>\n",
       "      <td>-1.221068</td>\n",
       "      <td>-0.831891</td>\n",
       "      <td>-0.452656</td>\n",
       "      <td>364</td>\n",
       "      <td>1</td>\n",
       "      <td>2</td>\n",
       "      <td>1</td>\n",
       "      <td>1</td>\n",
       "      <td>1</td>\n",
       "      <td>1</td>\n",
       "    </tr>\n",
       "    <tr>\n",
       "      <th>1111</th>\n",
       "      <td>0.390636</td>\n",
       "      <td>0.839430</td>\n",
       "      <td>-0.046063</td>\n",
       "      <td>-0.502646</td>\n",
       "      <td>1308</td>\n",
       "      <td>1</td>\n",
       "      <td>1</td>\n",
       "      <td>3</td>\n",
       "      <td>3</td>\n",
       "      <td>1</td>\n",
       "      <td>1</td>\n",
       "    </tr>\n",
       "    <tr>\n",
       "      <th>645</th>\n",
       "      <td>-0.779518</td>\n",
       "      <td>1.081842</td>\n",
       "      <td>-0.065479</td>\n",
       "      <td>-0.449122</td>\n",
       "      <td>756</td>\n",
       "      <td>0</td>\n",
       "      <td>0</td>\n",
       "      <td>3</td>\n",
       "      <td>3</td>\n",
       "      <td>1</td>\n",
       "      <td>1</td>\n",
       "    </tr>\n",
       "  </tbody>\n",
       "</table>\n",
       "<p>1530 rows × 11 columns</p>\n",
       "</div>"
      ],
      "text/plain": [
       "           Age      City    Salary  Total Business Value  Emp_ID  Gender  \\\n",
       "1    -0.445188  1.445459  0.270700             -0.502646       2       1   \n",
       "4    -0.445188 -1.463479  0.683418             -0.364019       6       0   \n",
       "6    -0.946682 -0.493833 -0.604776             -0.502646      11       0   \n",
       "9     0.892131  0.475813 -1.395467             -0.502646      14       0   \n",
       "17   -0.445188  0.233401  1.506212              3.480951      25       1   \n",
       "...        ...       ...       ...                   ...     ...     ...   \n",
       "1026 -0.946682  0.233401 -0.099943             -0.502646    1207       1   \n",
       "1702  0.223472  1.324253  1.391474              2.178054    2002       1   \n",
       "309  -1.113847 -1.221068 -0.831891             -0.452656     364       1   \n",
       "1111  0.390636  0.839430 -0.046063             -0.502646    1308       1   \n",
       "645  -0.779518  1.081842 -0.065479             -0.449122     756       0   \n",
       "\n",
       "      Education_Level  Joining Designation  Designation  Quarterly Rating  \\\n",
       "1                   2                    2            2                 1   \n",
       "4                   0                    3            3                 2   \n",
       "6                   2                    1            1                 1   \n",
       "9                   1                    3            3                 1   \n",
       "17                  0                    1            3                 4   \n",
       "...               ...                  ...          ...               ...   \n",
       "1026                1                    2            2                 1   \n",
       "1702                0                    2            4                 1   \n",
       "309                 2                    1            1                 1   \n",
       "1111                1                    3            3                 1   \n",
       "645                 0                    3            3                 1   \n",
       "\n",
       "      Target  \n",
       "1          0  \n",
       "4          0  \n",
       "6          0  \n",
       "9          0  \n",
       "17         0  \n",
       "...      ...  \n",
       "1026       1  \n",
       "1702       1  \n",
       "309        1  \n",
       "1111       1  \n",
       "645        1  \n",
       "\n",
       "[1530 rows x 11 columns]"
      ]
     },
     "execution_count": 24,
     "metadata": {},
     "output_type": "execute_result"
    }
   ],
   "source": [
    "new_df = pd.concat([not_default, default_upsampled]) \n",
    "new_df"
   ]
  },
  {
   "cell_type": "code",
   "execution_count": 25,
   "metadata": {},
   "outputs": [
    {
     "name": "stdout",
     "output_type": "stream",
     "text": [
      "<class 'pandas.core.frame.DataFrame'>\n",
      "Int64Index: 1530 entries, 1 to 645\n",
      "Data columns (total 11 columns):\n",
      " #   Column                Non-Null Count  Dtype  \n",
      "---  ------                --------------  -----  \n",
      " 0   Age                   1530 non-null   float64\n",
      " 1   City                  1530 non-null   float64\n",
      " 2   Salary                1530 non-null   float64\n",
      " 3   Total Business Value  1530 non-null   float64\n",
      " 4   Emp_ID                1530 non-null   int64  \n",
      " 5   Gender                1530 non-null   int32  \n",
      " 6   Education_Level       1530 non-null   int32  \n",
      " 7   Joining Designation   1530 non-null   int64  \n",
      " 8   Designation           1530 non-null   int64  \n",
      " 9   Quarterly Rating      1530 non-null   int64  \n",
      " 10  Target                1530 non-null   int32  \n",
      "dtypes: float64(4), int32(3), int64(4)\n",
      "memory usage: 125.5 KB\n"
     ]
    }
   ],
   "source": [
    "new_df.info()"
   ]
  },
  {
   "cell_type": "markdown",
   "metadata": {},
   "source": [
    "## Insights of each variable"
   ]
  },
  {
   "cell_type": "markdown",
   "metadata": {},
   "source": [
    "**Emp_ID**"
   ]
  },
  {
   "cell_type": "code",
   "execution_count": 26,
   "metadata": {},
   "outputs": [
    {
     "data": {
      "text/plain": [
       "1834    3\n",
       "1795    3\n",
       "1491    3\n",
       "1580    3\n",
       "364     3\n",
       "       ..\n",
       "2651    1\n",
       "602     1\n",
       "599     1\n",
       "2646    1\n",
       "2552    1\n",
       "Name: Emp_ID, Length: 1372, dtype: int64"
      ]
     },
     "execution_count": 26,
     "metadata": {},
     "output_type": "execute_result"
    }
   ],
   "source": [
    "new_df['Emp_ID'].value_counts()"
   ]
  },
  {
   "cell_type": "code",
   "execution_count": 121,
   "metadata": {},
   "outputs": [
    {
     "data": {
      "image/png": "[encoded data removed]",
      "text/plain": [
       "<Figure size 432x288 with 1 Axes>"
      ]
     },
     "metadata": {
      "needs_background": "light"
     },
     "output_type": "display_data"
    }
   ],
   "source": [
    "plt.hist(new_df['Emp_ID'],color='green')\n",
    "plt.title('Emp_ID')\n",
    "plt.show()"
   ]
  },
  {
   "cell_type": "markdown",
   "metadata": {},
   "source": [
    "Above histogram shows the distribution of each data points in that variable."
   ]
  },
  {
   "cell_type": "markdown",
   "metadata": {},
   "source": [
    "**AGE**"
   ]
  },
  {
   "cell_type": "code",
   "execution_count": 28,
   "metadata": {},
   "outputs": [
    {
     "data": {
      "text/plain": [
       " 0.056307    106\n",
       "-0.445188    104\n",
       "-0.278023    102\n",
       " 0.223472    100\n",
       "-0.612353     99\n",
       " 0.390636     93\n",
       "-0.779518     89\n",
       "-0.110858     88\n",
       "-1.113847     79\n",
       " 0.557801     75\n",
       "-0.946682     68\n",
       " 1.226461     60\n",
       " 0.892131     59\n",
       " 0.724966     56\n",
       "-1.281012     53\n",
       " 1.059296     50\n",
       "-1.448177     39\n",
       " 1.393625     36\n",
       " 1.560790     28\n",
       "-1.615342     26\n",
       " 1.727955     19\n",
       " 2.062285     16\n",
       "-1.782507     15\n",
       " 1.895120     15\n",
       " 2.396615     12\n",
       " 2.229450     11\n",
       " 2.563779      7\n",
       " 3.065274      6\n",
       " 2.898109      5\n",
       " 2.730944      4\n",
       "-1.949672      4\n",
       " 3.566769      2\n",
       "-2.116836      2\n",
       " 3.232439      1\n",
       " 3.399604      1\n",
       "Name: Age, dtype: int64"
      ]
     },
     "execution_count": 28,
     "metadata": {},
     "output_type": "execute_result"
    }
   ],
   "source": [
    "new_df['Age'].value_counts()"
   ]
  },
  {
   "cell_type": "code",
   "execution_count": 122,
   "metadata": {},
   "outputs": [
    {
     "data": {
      "image/png": "[encoded data removed]",
      "text/plain": [
       "<Figure size 432x288 with 1 Axes>"
      ]
     },
     "metadata": {
      "needs_background": "light"
     },
     "output_type": "display_data"
    }
   ],
   "source": [
    "plt.hist(new_df['Age'],color='green')\n",
    "plt.title('Age')\n",
    "plt.show()"
   ]
  },
  {
   "cell_type": "markdown",
   "metadata": {},
   "source": [
    "**Above histogram shows the variation in age**"
   ]
  },
  {
   "cell_type": "code",
   "execution_count": 30,
   "metadata": {},
   "outputs": [
    {
     "data": {
      "image/png": "[encoded data removed]",
      "text/plain": [
       "<Figure size 432x288 with 1 Axes>"
      ]
     },
     "metadata": {
      "needs_background": "light"
     },
     "output_type": "display_data"
    }
   ],
   "source": [
    "sns.boxplot(new_df['Age'],color='red')\n",
    "plt.show()"
   ]
  },
  {
   "cell_type": "markdown",
   "metadata": {},
   "source": [
    "The above boxplot shows the outliers and to check the outliers using IQR"
   ]
  },
  {
   "cell_type": "code",
   "execution_count": 135,
   "metadata": {},
   "outputs": [
    {
     "data": {
      "text/plain": [
       "1.3373188102675213"
      ]
     },
     "execution_count": 135,
     "metadata": {},
     "output_type": "execute_result"
    }
   ],
   "source": [
    "iqr=new_df['Age'].quantile(0.75) - new_df['Age'].quantile(0.25)\n",
    "iqr"
   ]
  },
  {
   "cell_type": "code",
   "execution_count": 136,
   "metadata": {},
   "outputs": [
    {
     "data": {
      "text/plain": [
       "2.7309443029077087"
      ]
     },
     "execution_count": 136,
     "metadata": {},
     "output_type": "execute_result"
    }
   ],
   "source": [
    "Ul=new_df['Age'].quantile(0.75) + (1.5*iqr)\n",
    "Ul"
   ]
  },
  {
   "cell_type": "code",
   "execution_count": 33,
   "metadata": {},
   "outputs": [
    {
     "data": {
      "text/html": [
       "<div>\n",
       "<style scoped>\n",
       "    .dataframe tbody tr th:only-of-type {\n",
       "        vertical-align: middle;\n",
       "    }\n",
       "\n",
       "    .dataframe tbody tr th {\n",
       "        vertical-align: top;\n",
       "    }\n",
       "\n",
       "    .dataframe thead th {\n",
       "        text-align: right;\n",
       "    }\n",
       "</style>\n",
       "<table border=\"1\" class=\"dataframe\">\n",
       "  <thead>\n",
       "    <tr style=\"text-align: right;\">\n",
       "      <th></th>\n",
       "      <th>count</th>\n",
       "      <th>mean</th>\n",
       "      <th>std</th>\n",
       "      <th>min</th>\n",
       "      <th>25%</th>\n",
       "      <th>50%</th>\n",
       "      <th>75%</th>\n",
       "      <th>max</th>\n",
       "    </tr>\n",
       "    <tr>\n",
       "      <th>Target</th>\n",
       "      <th></th>\n",
       "      <th></th>\n",
       "      <th></th>\n",
       "      <th></th>\n",
       "      <th></th>\n",
       "      <th></th>\n",
       "      <th></th>\n",
       "      <th></th>\n",
       "    </tr>\n",
       "  </thead>\n",
       "  <tbody>\n",
       "    <tr>\n",
       "      <th>0</th>\n",
       "      <td>765.0</td>\n",
       "      <td>0.114650</td>\n",
       "      <td>0.983022</td>\n",
       "      <td>-1.949672</td>\n",
       "      <td>-0.612353</td>\n",
       "      <td>0.056307</td>\n",
       "      <td>0.724966</td>\n",
       "      <td>3.566769</td>\n",
       "    </tr>\n",
       "    <tr>\n",
       "      <th>1</th>\n",
       "      <td>765.0</td>\n",
       "      <td>-0.021485</td>\n",
       "      <td>1.002047</td>\n",
       "      <td>-2.116836</td>\n",
       "      <td>-0.779518</td>\n",
       "      <td>-0.110858</td>\n",
       "      <td>0.557801</td>\n",
       "      <td>3.065274</td>\n",
       "    </tr>\n",
       "  </tbody>\n",
       "</table>\n",
       "</div>"
      ],
      "text/plain": [
       "        count      mean       std       min       25%       50%       75%  \\\n",
       "Target                                                                      \n",
       "0       765.0  0.114650  0.983022 -1.949672 -0.612353  0.056307  0.724966   \n",
       "1       765.0 -0.021485  1.002047 -2.116836 -0.779518 -0.110858  0.557801   \n",
       "\n",
       "             max  \n",
       "Target            \n",
       "0       3.566769  \n",
       "1       3.065274  "
      ]
     },
     "execution_count": 33,
     "metadata": {},
     "output_type": "execute_result"
    }
   ],
   "source": [
    "new_df.groupby('Target')['Age'].describe()"
   ]
  },
  {
   "cell_type": "markdown",
   "metadata": {},
   "source": [
    "Groupby shows the min,max,std of the age feature with respect to Target"
   ]
  },
  {
   "cell_type": "markdown",
   "metadata": {},
   "source": [
    "**Gender**"
   ]
  },
  {
   "cell_type": "code",
   "execution_count": 34,
   "metadata": {},
   "outputs": [
    {
     "data": {
      "text/plain": [
       "1    922\n",
       "0    608\n",
       "Name: Gender, dtype: int64"
      ]
     },
     "execution_count": 34,
     "metadata": {},
     "output_type": "execute_result"
    }
   ],
   "source": [
    "new_df['Gender'].value_counts()"
   ]
  },
  {
   "cell_type": "code",
   "execution_count": 35,
   "metadata": {},
   "outputs": [
    {
     "data": {
      "image/png": "[encoded data removed]",
      "text/plain": [
       "<Figure size 432x288 with 1 Axes>"
      ]
     },
     "metadata": {
      "needs_background": "light"
     },
     "output_type": "display_data"
    }
   ],
   "source": [
    "sns.countplot(new_df['Gender'])\n",
    "plt.title('Gender')\n",
    "plt.show()"
   ]
  },
  {
   "cell_type": "code",
   "execution_count": 36,
   "metadata": {},
   "outputs": [
    {
     "data": {
      "image/png": "[encoded data removed]",
      "text/plain": [
       "<Figure size 432x288 with 1 Axes>"
      ]
     },
     "metadata": {
      "needs_background": "light"
     },
     "output_type": "display_data"
    }
   ],
   "source": [
    "sns.boxplot(x=new_df['Gender'],y=new_df['Target'],data=new_df)\n",
    "plt.show()"
   ]
  },
  {
   "cell_type": "markdown",
   "metadata": {},
   "source": [
    "**City**"
   ]
  },
  {
   "cell_type": "code",
   "execution_count": 37,
   "metadata": {},
   "outputs": [
    {
     "data": {
      "text/plain": [
       "-0.251422    89\n",
       " 0.839430    73\n",
       " 0.475813    69\n",
       "-0.978656    66\n",
       " 0.960636    59\n",
       " 1.445459    59\n",
       " 0.597019    58\n",
       "-0.857451    57\n",
       "-1.099862    57\n",
       " 0.354607    56\n",
       "-0.493833    56\n",
       " 1.203047    54\n",
       "-0.009010    54\n",
       " 1.324253    53\n",
       "-1.584685    53\n",
       "-1.342274    52\n",
       " 1.081842    51\n",
       "-0.130216    50\n",
       " 1.687870    50\n",
       " 1.566665    49\n",
       " 0.718224    49\n",
       "-1.463479    47\n",
       " 0.233401    43\n",
       "-1.705891    41\n",
       "-0.736245    40\n",
       "-0.615039    40\n",
       " 0.112195    36\n",
       "-1.221068    35\n",
       "-0.372628    34\n",
       "Name: City, dtype: int64"
      ]
     },
     "execution_count": 37,
     "metadata": {},
     "output_type": "execute_result"
    }
   ],
   "source": [
    "new_df['City'].value_counts()"
   ]
  },
  {
   "cell_type": "code",
   "execution_count": 38,
   "metadata": {},
   "outputs": [
    {
     "data": {
      "image/png": "[encoded data removed]",
      "text/plain": [
       "<Figure size 720x576 with 1 Axes>"
      ]
     },
     "metadata": {
      "needs_background": "light"
     },
     "output_type": "display_data"
    }
   ],
   "source": [
    "plt.figure(figsize=(10,8))\n",
    "sns.countplot(new_df['City'])\n",
    "plt.show()"
   ]
  },
  {
   "cell_type": "code",
   "execution_count": 39,
   "metadata": {},
   "outputs": [
    {
     "data": {
      "image/png": "[encoded data removed]",
      "text/plain": [
       "<Figure size 720x576 with 1 Axes>"
      ]
     },
     "metadata": {
      "needs_background": "light"
     },
     "output_type": "display_data"
    }
   ],
   "source": [
    "plt.figure(figsize=(10,8))\n",
    "sns.barplot(x=new_df['City'],y=new_df['Target'],data=new_df)\n",
    "plt.show()"
   ]
  },
  {
   "cell_type": "markdown",
   "metadata": {},
   "source": [
    "## Splitting the variables  "
   ]
  },
  {
   "cell_type": "code",
   "execution_count": 40,
   "metadata": {},
   "outputs": [
    {
     "name": "stdout",
     "output_type": "stream",
     "text": [
      "           Age      City    Salary  Total Business Value  Gender  \\\n",
      "1    -0.445188  1.445459  0.270700             -0.502646       1   \n",
      "4    -0.445188 -1.463479  0.683418             -0.364019       0   \n",
      "6    -0.946682 -0.493833 -0.604776             -0.502646       0   \n",
      "9     0.892131  0.475813 -1.395467             -0.502646       0   \n",
      "17   -0.445188  0.233401  1.506212              3.480951       1   \n",
      "...        ...       ...       ...                   ...     ...   \n",
      "1026 -0.946682  0.233401 -0.099943             -0.502646       1   \n",
      "1702  0.223472  1.324253  1.391474              2.178054       1   \n",
      "309  -1.113847 -1.221068 -0.831891             -0.452656       1   \n",
      "1111  0.390636  0.839430 -0.046063             -0.502646       1   \n",
      "645  -0.779518  1.081842 -0.065479             -0.449122       0   \n",
      "\n",
      "      Education_Level  Joining Designation  Designation  Quarterly Rating  \n",
      "1                   2                    2            2                 1  \n",
      "4                   0                    3            3                 2  \n",
      "6                   2                    1            1                 1  \n",
      "9                   1                    3            3                 1  \n",
      "17                  0                    1            3                 4  \n",
      "...               ...                  ...          ...               ...  \n",
      "1026                1                    2            2                 1  \n",
      "1702                0                    2            4                 1  \n",
      "309                 2                    1            1                 1  \n",
      "1111                1                    3            3                 1  \n",
      "645                 0                    3            3                 1  \n",
      "\n",
      "[1530 rows x 9 columns]\n"
     ]
    }
   ],
   "source": [
    "x=new_df.drop(['Emp_ID','Target'],axis=1)\n",
    "print(x)\n",
    "y=new_df[['Target']]"
   ]
  },
  {
   "cell_type": "code",
   "execution_count": 41,
   "metadata": {},
   "outputs": [],
   "source": [
    "from sklearn.model_selection import train_test_split"
   ]
  },
  {
   "cell_type": "code",
   "execution_count": 42,
   "metadata": {},
   "outputs": [
    {
     "name": "stdout",
     "output_type": "stream",
     "text": [
      "1147\n",
      "383\n",
      "1147\n",
      "383\n"
     ]
    }
   ],
   "source": [
    "x_train,x_test,y_train,y_test=train_test_split(x,y,test_size=0.25)\n",
    "print(len(x_train))\n",
    "print(len(x_test))\n",
    "print(len(y_train))\n",
    "print(len(y_test))"
   ]
  },
  {
   "cell_type": "markdown",
   "metadata": {},
   "source": [
    "## Multiple models with different Algorithms "
   ]
  },
  {
   "cell_type": "markdown",
   "metadata": {},
   "source": [
    "### DecisionTree Classifier"
   ]
  },
  {
   "cell_type": "code",
   "execution_count": 43,
   "metadata": {},
   "outputs": [],
   "source": [
    "from sklearn import tree\n",
    "from sklearn.tree import DecisionTreeClassifier"
   ]
  },
  {
   "cell_type": "code",
   "execution_count": 44,
   "metadata": {},
   "outputs": [
    {
     "data": {
      "text/plain": [
       "DecisionTreeClassifier()"
      ]
     },
     "execution_count": 44,
     "metadata": {},
     "output_type": "execute_result"
    }
   ],
   "source": [
    "model1=DecisionTreeClassifier()\n",
    "model1.fit(x_train,y_train)"
   ]
  },
  {
   "cell_type": "code",
   "execution_count": 45,
   "metadata": {},
   "outputs": [],
   "source": [
    "y_pred1=model1.predict(x_test)\n"
   ]
  },
  {
   "cell_type": "code",
   "execution_count": 127,
   "metadata": {},
   "outputs": [],
   "source": [
    "from sklearn.metrics import classification_report, confusion_matrix, accuracy_score"
   ]
  },
  {
   "cell_type": "code",
   "execution_count": 47,
   "metadata": {},
   "outputs": [
    {
     "name": "stdout",
     "output_type": "stream",
     "text": [
      "0.7127937336814621\n"
     ]
    }
   ],
   "source": [
    "print(accuracy_score(y_test,y_pred1))"
   ]
  },
  {
   "cell_type": "markdown",
   "metadata": {},
   "source": [
    "By using Decision Tree Classifier,we got 71.279% accuracy"
   ]
  },
  {
   "cell_type": "markdown",
   "metadata": {},
   "source": [
    "**Using Boosting technique in Decision Tree Classifier**"
   ]
  },
  {
   "cell_type": "code",
   "execution_count": 123,
   "metadata": {},
   "outputs": [],
   "source": [
    "from sklearn.ensemble import AdaBoostClassifier"
   ]
  },
  {
   "cell_type": "code",
   "execution_count": 50,
   "metadata": {},
   "outputs": [],
   "source": [
    "ABC = AdaBoostClassifier(base_estimator = model1)"
   ]
  },
  {
   "cell_type": "code",
   "execution_count": 57,
   "metadata": {},
   "outputs": [],
   "source": [
    "model1_2 = GridSearchCV(ABC, param_grid=grid_params, scoring = 'roc_auc')"
   ]
  },
  {
   "cell_type": "code",
   "execution_count": 58,
   "metadata": {},
   "outputs": [
    {
     "data": {
      "text/plain": [
       "GridSearchCV(estimator=AdaBoostClassifier(base_estimator=DecisionTreeClassifier()),\n",
       "             param_grid={'n_estimators': [100, 200, 300]}, scoring='roc_auc')"
      ]
     },
     "execution_count": 58,
     "metadata": {},
     "output_type": "execute_result"
    }
   ],
   "source": [
    "model1_2.fit(x_train,y_train)"
   ]
  },
  {
   "cell_type": "code",
   "execution_count": 59,
   "metadata": {},
   "outputs": [],
   "source": [
    "y_pred1_2=model1_2.predict(x_test)"
   ]
  },
  {
   "cell_type": "code",
   "execution_count": 60,
   "metadata": {},
   "outputs": [
    {
     "name": "stdout",
     "output_type": "stream",
     "text": [
      "0.6919060052219321\n"
     ]
    }
   ],
   "source": [
    "print(accuracy_score(y_test,y_pred1_2))"
   ]
  },
  {
   "cell_type": "markdown",
   "metadata": {},
   "source": [
    "### RandomForest Classifier"
   ]
  },
  {
   "cell_type": "code",
   "execution_count": 61,
   "metadata": {},
   "outputs": [],
   "source": [
    "from sklearn.ensemble import RandomForestClassifier"
   ]
  },
  {
   "cell_type": "code",
   "execution_count": 62,
   "metadata": {},
   "outputs": [
    {
     "data": {
      "text/plain": [
       "RandomForestClassifier()"
      ]
     },
     "execution_count": 62,
     "metadata": {},
     "output_type": "execute_result"
    }
   ],
   "source": [
    "model2=RandomForestClassifier()\n",
    "model2.fit(x_train,y_train)"
   ]
  },
  {
   "cell_type": "code",
   "execution_count": 63,
   "metadata": {},
   "outputs": [],
   "source": [
    "y_pred2=model2.predict(x_test)"
   ]
  },
  {
   "cell_type": "code",
   "execution_count": 64,
   "metadata": {},
   "outputs": [
    {
     "name": "stdout",
     "output_type": "stream",
     "text": [
      "0.7885117493472585\n"
     ]
    }
   ],
   "source": [
    "print(accuracy_score(y_test,y_pred2))"
   ]
  },
  {
   "cell_type": "code",
   "execution_count": 97,
   "metadata": {},
   "outputs": [],
   "source": [
    "ABC_1 = AdaBoostClassifier(base_estimator = model2)"
   ]
  },
  {
   "cell_type": "code",
   "execution_count": 98,
   "metadata": {},
   "outputs": [],
   "source": [
    "model2_2 = GridSearchCV(ABC_1, param_grid=grid_params, scoring = 'roc_auc')"
   ]
  },
  {
   "cell_type": "code",
   "execution_count": 99,
   "metadata": {},
   "outputs": [
    {
     "data": {
      "text/plain": [
       "GridSearchCV(estimator=AdaBoostClassifier(base_estimator=RandomForestClassifier()),\n",
       "             param_grid={'n_estimators': [100, 200, 300]}, scoring='roc_auc')"
      ]
     },
     "execution_count": 99,
     "metadata": {},
     "output_type": "execute_result"
    }
   ],
   "source": [
    "model2_2.fit(x_train,y_train)"
   ]
  },
  {
   "cell_type": "code",
   "execution_count": 100,
   "metadata": {},
   "outputs": [],
   "source": [
    "y_pred2_2=model2_2.predict(x_test)"
   ]
  },
  {
   "cell_type": "code",
   "execution_count": 101,
   "metadata": {},
   "outputs": [
    {
     "name": "stdout",
     "output_type": "stream",
     "text": [
      "0.7963446475195822\n"
     ]
    }
   ],
   "source": [
    "print(accuracy_score(y_test,y_pred2_2))"
   ]
  },
  {
   "cell_type": "markdown",
   "metadata": {},
   "source": [
    "## Final Model "
   ]
  },
  {
   "cell_type": "markdown",
   "metadata": {},
   "source": [
    "### Support Vector Classifier "
   ]
  },
  {
   "cell_type": "code",
   "execution_count": 70,
   "metadata": {},
   "outputs": [],
   "source": [
    "from sklearn import svm\n",
    "from sklearn.svm import SVC"
   ]
  },
  {
   "cell_type": "code",
   "execution_count": 71,
   "metadata": {},
   "outputs": [
    {
     "data": {
      "text/plain": [
       "SVC(kernel='linear')"
      ]
     },
     "execution_count": 71,
     "metadata": {},
     "output_type": "execute_result"
    }
   ],
   "source": [
    "model3=SVC(kernel='linear')\n",
    "model3.fit(x_train,y_train)"
   ]
  },
  {
   "cell_type": "markdown",
   "metadata": {},
   "source": [
    "**Prediction**"
   ]
  },
  {
   "cell_type": "code",
   "execution_count": 72,
   "metadata": {},
   "outputs": [],
   "source": [
    "y_pred3=model3.predict(x_test)"
   ]
  },
  {
   "cell_type": "code",
   "execution_count": 73,
   "metadata": {},
   "outputs": [
    {
     "name": "stdout",
     "output_type": "stream",
     "text": [
      "0.7310704960835509\n"
     ]
    }
   ],
   "source": [
    "print(accuracy_score(y_test,y_pred3))"
   ]
  },
  {
   "cell_type": "code",
   "execution_count": 120,
   "metadata": {},
   "outputs": [
    {
     "data": {
      "text/plain": [
       "array([[115,  74],\n",
       "       [ 29, 165]], dtype=int64)"
      ]
     },
     "execution_count": 120,
     "metadata": {},
     "output_type": "execute_result"
    }
   ],
   "source": [
    "confusion_matrix(y_test,y_pred3)"
   ]
  },
  {
   "cell_type": "code",
   "execution_count": 129,
   "metadata": {},
   "outputs": [
    {
     "name": "stdout",
     "output_type": "stream",
     "text": [
      "              precision    recall  f1-score   support\n",
      "\n",
      "           0       0.80      0.61      0.69       189\n",
      "           1       0.69      0.85      0.76       194\n",
      "\n",
      "    accuracy                           0.73       383\n",
      "   macro avg       0.74      0.73      0.73       383\n",
      "weighted avg       0.74      0.73      0.73       383\n",
      "\n"
     ]
    }
   ],
   "source": [
    "print(classification_report(y_test,y_pred3))"
   ]
  },
  {
   "cell_type": "markdown",
   "metadata": {},
   "source": [
    "**The advantages of support vector machines are: Effective in high dimensional spaces**"
   ]
  },
  {
   "cell_type": "markdown",
   "metadata": {},
   "source": [
    "**Importing Test data**"
   ]
  },
  {
   "cell_type": "code",
   "execution_count": 102,
   "metadata": {},
   "outputs": [
    {
     "data": {
      "text/html": [
       "<div>\n",
       "<style scoped>\n",
       "    .dataframe tbody tr th:only-of-type {\n",
       "        vertical-align: middle;\n",
       "    }\n",
       "\n",
       "    .dataframe tbody tr th {\n",
       "        vertical-align: top;\n",
       "    }\n",
       "\n",
       "    .dataframe thead th {\n",
       "        text-align: right;\n",
       "    }\n",
       "</style>\n",
       "<table border=\"1\" class=\"dataframe\">\n",
       "  <thead>\n",
       "    <tr style=\"text-align: right;\">\n",
       "      <th></th>\n",
       "      <th>Emp_ID</th>\n",
       "    </tr>\n",
       "  </thead>\n",
       "  <tbody>\n",
       "    <tr>\n",
       "      <th>0</th>\n",
       "      <td>394</td>\n",
       "    </tr>\n",
       "    <tr>\n",
       "      <th>1</th>\n",
       "      <td>173</td>\n",
       "    </tr>\n",
       "    <tr>\n",
       "      <th>2</th>\n",
       "      <td>1090</td>\n",
       "    </tr>\n",
       "    <tr>\n",
       "      <th>3</th>\n",
       "      <td>840</td>\n",
       "    </tr>\n",
       "    <tr>\n",
       "      <th>4</th>\n",
       "      <td>308</td>\n",
       "    </tr>\n",
       "    <tr>\n",
       "      <th>...</th>\n",
       "      <td>...</td>\n",
       "    </tr>\n",
       "    <tr>\n",
       "      <th>736</th>\n",
       "      <td>2134</td>\n",
       "    </tr>\n",
       "    <tr>\n",
       "      <th>737</th>\n",
       "      <td>2255</td>\n",
       "    </tr>\n",
       "    <tr>\n",
       "      <th>738</th>\n",
       "      <td>448</td>\n",
       "    </tr>\n",
       "    <tr>\n",
       "      <th>739</th>\n",
       "      <td>1644</td>\n",
       "    </tr>\n",
       "    <tr>\n",
       "      <th>740</th>\n",
       "      <td>624</td>\n",
       "    </tr>\n",
       "  </tbody>\n",
       "</table>\n",
       "<p>741 rows × 1 columns</p>\n",
       "</div>"
      ],
      "text/plain": [
       "     Emp_ID\n",
       "0       394\n",
       "1       173\n",
       "2      1090\n",
       "3       840\n",
       "4       308\n",
       "..      ...\n",
       "736    2134\n",
       "737    2255\n",
       "738     448\n",
       "739    1644\n",
       "740     624\n",
       "\n",
       "[741 rows x 1 columns]"
      ]
     },
     "execution_count": 102,
     "metadata": {},
     "output_type": "execute_result"
    }
   ],
   "source": [
    "test=pd.read_csv(\"C:/Users/RDX/Downloads/test_hXY9mYw.csv\")\n",
    "test"
   ]
  },
  {
   "cell_type": "markdown",
   "metadata": {},
   "source": [
    "**Merging the data**"
   ]
  },
  {
   "cell_type": "code",
   "execution_count": 103,
   "metadata": {},
   "outputs": [],
   "source": [
    "v=pd.merge(test,df3,on='Emp_ID')"
   ]
  },
  {
   "cell_type": "code",
   "execution_count": 104,
   "metadata": {},
   "outputs": [
    {
     "data": {
      "text/html": [
       "<div>\n",
       "<style scoped>\n",
       "    .dataframe tbody tr th:only-of-type {\n",
       "        vertical-align: middle;\n",
       "    }\n",
       "\n",
       "    .dataframe tbody tr th {\n",
       "        vertical-align: top;\n",
       "    }\n",
       "\n",
       "    .dataframe thead th {\n",
       "        text-align: right;\n",
       "    }\n",
       "</style>\n",
       "<table border=\"1\" class=\"dataframe\">\n",
       "  <thead>\n",
       "    <tr style=\"text-align: right;\">\n",
       "      <th></th>\n",
       "      <th>Emp_ID</th>\n",
       "      <th>Age</th>\n",
       "      <th>City</th>\n",
       "      <th>Salary</th>\n",
       "      <th>Total Business Value</th>\n",
       "      <th>Gender</th>\n",
       "      <th>Education_Level</th>\n",
       "      <th>Joining Designation</th>\n",
       "      <th>Designation</th>\n",
       "      <th>Quarterly Rating</th>\n",
       "      <th>Target</th>\n",
       "    </tr>\n",
       "  </thead>\n",
       "  <tbody>\n",
       "    <tr>\n",
       "      <th>0</th>\n",
       "      <td>394</td>\n",
       "      <td>0.056307</td>\n",
       "      <td>-0.251422</td>\n",
       "      <td>1.352747</td>\n",
       "      <td>2.506409</td>\n",
       "      <td>0</td>\n",
       "      <td>2</td>\n",
       "      <td>2</td>\n",
       "      <td>4</td>\n",
       "      <td>3</td>\n",
       "      <td>0</td>\n",
       "    </tr>\n",
       "    <tr>\n",
       "      <th>1</th>\n",
       "      <td>173</td>\n",
       "      <td>0.892131</td>\n",
       "      <td>0.718224</td>\n",
       "      <td>-0.111361</td>\n",
       "      <td>1.674435</td>\n",
       "      <td>1</td>\n",
       "      <td>1</td>\n",
       "      <td>1</td>\n",
       "      <td>3</td>\n",
       "      <td>3</td>\n",
       "      <td>0</td>\n",
       "    </tr>\n",
       "    <tr>\n",
       "      <th>2</th>\n",
       "      <td>1090</td>\n",
       "      <td>0.892131</td>\n",
       "      <td>-1.221068</td>\n",
       "      <td>1.318494</td>\n",
       "      <td>5.018603</td>\n",
       "      <td>1</td>\n",
       "      <td>1</td>\n",
       "      <td>2</td>\n",
       "      <td>4</td>\n",
       "      <td>2</td>\n",
       "      <td>0</td>\n",
       "    </tr>\n",
       "    <tr>\n",
       "      <th>3</th>\n",
       "      <td>840</td>\n",
       "      <td>1.059296</td>\n",
       "      <td>1.566665</td>\n",
       "      <td>1.038803</td>\n",
       "      <td>1.375016</td>\n",
       "      <td>0</td>\n",
       "      <td>1</td>\n",
       "      <td>1</td>\n",
       "      <td>4</td>\n",
       "      <td>2</td>\n",
       "      <td>0</td>\n",
       "    </tr>\n",
       "    <tr>\n",
       "      <th>4</th>\n",
       "      <td>308</td>\n",
       "      <td>-0.278023</td>\n",
       "      <td>1.203047</td>\n",
       "      <td>4.548777</td>\n",
       "      <td>5.856064</td>\n",
       "      <td>1</td>\n",
       "      <td>2</td>\n",
       "      <td>2</td>\n",
       "      <td>5</td>\n",
       "      <td>2</td>\n",
       "      <td>0</td>\n",
       "    </tr>\n",
       "    <tr>\n",
       "      <th>...</th>\n",
       "      <td>...</td>\n",
       "      <td>...</td>\n",
       "      <td>...</td>\n",
       "      <td>...</td>\n",
       "      <td>...</td>\n",
       "      <td>...</td>\n",
       "      <td>...</td>\n",
       "      <td>...</td>\n",
       "      <td>...</td>\n",
       "      <td>...</td>\n",
       "      <td>...</td>\n",
       "    </tr>\n",
       "    <tr>\n",
       "      <th>736</th>\n",
       "      <td>2134</td>\n",
       "      <td>1.059296</td>\n",
       "      <td>0.839430</td>\n",
       "      <td>1.997055</td>\n",
       "      <td>6.039289</td>\n",
       "      <td>1</td>\n",
       "      <td>1</td>\n",
       "      <td>2</td>\n",
       "      <td>5</td>\n",
       "      <td>1</td>\n",
       "      <td>0</td>\n",
       "    </tr>\n",
       "    <tr>\n",
       "      <th>737</th>\n",
       "      <td>2255</td>\n",
       "      <td>1.059296</td>\n",
       "      <td>0.354607</td>\n",
       "      <td>2.613137</td>\n",
       "      <td>3.486099</td>\n",
       "      <td>1</td>\n",
       "      <td>1</td>\n",
       "      <td>3</td>\n",
       "      <td>4</td>\n",
       "      <td>3</td>\n",
       "      <td>0</td>\n",
       "    </tr>\n",
       "    <tr>\n",
       "      <th>738</th>\n",
       "      <td>448</td>\n",
       "      <td>0.557801</td>\n",
       "      <td>-1.584685</td>\n",
       "      <td>0.213366</td>\n",
       "      <td>2.819888</td>\n",
       "      <td>1</td>\n",
       "      <td>0</td>\n",
       "      <td>2</td>\n",
       "      <td>4</td>\n",
       "      <td>3</td>\n",
       "      <td>0</td>\n",
       "    </tr>\n",
       "    <tr>\n",
       "      <th>739</th>\n",
       "      <td>1644</td>\n",
       "      <td>2.396615</td>\n",
       "      <td>1.687870</td>\n",
       "      <td>1.627293</td>\n",
       "      <td>2.658136</td>\n",
       "      <td>0</td>\n",
       "      <td>0</td>\n",
       "      <td>2</td>\n",
       "      <td>4</td>\n",
       "      <td>1</td>\n",
       "      <td>0</td>\n",
       "    </tr>\n",
       "    <tr>\n",
       "      <th>740</th>\n",
       "      <td>624</td>\n",
       "      <td>0.223472</td>\n",
       "      <td>-0.978656</td>\n",
       "      <td>1.599067</td>\n",
       "      <td>1.690361</td>\n",
       "      <td>1</td>\n",
       "      <td>0</td>\n",
       "      <td>2</td>\n",
       "      <td>3</td>\n",
       "      <td>2</td>\n",
       "      <td>0</td>\n",
       "    </tr>\n",
       "  </tbody>\n",
       "</table>\n",
       "<p>741 rows × 11 columns</p>\n",
       "</div>"
      ],
      "text/plain": [
       "     Emp_ID       Age      City    Salary  Total Business Value  Gender  \\\n",
       "0       394  0.056307 -0.251422  1.352747              2.506409       0   \n",
       "1       173  0.892131  0.718224 -0.111361              1.674435       1   \n",
       "2      1090  0.892131 -1.221068  1.318494              5.018603       1   \n",
       "3       840  1.059296  1.566665  1.038803              1.375016       0   \n",
       "4       308 -0.278023  1.203047  4.548777              5.856064       1   \n",
       "..      ...       ...       ...       ...                   ...     ...   \n",
       "736    2134  1.059296  0.839430  1.997055              6.039289       1   \n",
       "737    2255  1.059296  0.354607  2.613137              3.486099       1   \n",
       "738     448  0.557801 -1.584685  0.213366              2.819888       1   \n",
       "739    1644  2.396615  1.687870  1.627293              2.658136       0   \n",
       "740     624  0.223472 -0.978656  1.599067              1.690361       1   \n",
       "\n",
       "     Education_Level  Joining Designation  Designation  Quarterly Rating  \\\n",
       "0                  2                    2            4                 3   \n",
       "1                  1                    1            3                 3   \n",
       "2                  1                    2            4                 2   \n",
       "3                  1                    1            4                 2   \n",
       "4                  2                    2            5                 2   \n",
       "..               ...                  ...          ...               ...   \n",
       "736                1                    2            5                 1   \n",
       "737                1                    3            4                 3   \n",
       "738                0                    2            4                 3   \n",
       "739                0                    2            4                 1   \n",
       "740                0                    2            3                 2   \n",
       "\n",
       "     Target  \n",
       "0         0  \n",
       "1         0  \n",
       "2         0  \n",
       "3         0  \n",
       "4         0  \n",
       "..      ...  \n",
       "736       0  \n",
       "737       0  \n",
       "738       0  \n",
       "739       0  \n",
       "740       0  \n",
       "\n",
       "[741 rows x 11 columns]"
      ]
     },
     "execution_count": 104,
     "metadata": {},
     "output_type": "execute_result"
    }
   ],
   "source": [
    "v"
   ]
  },
  {
   "cell_type": "code",
   "execution_count": 105,
   "metadata": {},
   "outputs": [
    {
     "data": {
      "text/plain": [
       "(741, 11)"
      ]
     },
     "execution_count": 105,
     "metadata": {},
     "output_type": "execute_result"
    }
   ],
   "source": [
    "v.shape"
   ]
  },
  {
   "cell_type": "code",
   "execution_count": 106,
   "metadata": {},
   "outputs": [],
   "source": [
    "v=v.drop(['Emp_ID','Target'],axis=1)"
   ]
  },
  {
   "cell_type": "code",
   "execution_count": 107,
   "metadata": {},
   "outputs": [
    {
     "data": {
      "text/html": [
       "<div>\n",
       "<style scoped>\n",
       "    .dataframe tbody tr th:only-of-type {\n",
       "        vertical-align: middle;\n",
       "    }\n",
       "\n",
       "    .dataframe tbody tr th {\n",
       "        vertical-align: top;\n",
       "    }\n",
       "\n",
       "    .dataframe thead th {\n",
       "        text-align: right;\n",
       "    }\n",
       "</style>\n",
       "<table border=\"1\" class=\"dataframe\">\n",
       "  <thead>\n",
       "    <tr style=\"text-align: right;\">\n",
       "      <th></th>\n",
       "      <th>Age</th>\n",
       "      <th>City</th>\n",
       "      <th>Salary</th>\n",
       "      <th>Total Business Value</th>\n",
       "      <th>Gender</th>\n",
       "      <th>Education_Level</th>\n",
       "      <th>Joining Designation</th>\n",
       "      <th>Designation</th>\n",
       "      <th>Quarterly Rating</th>\n",
       "    </tr>\n",
       "  </thead>\n",
       "  <tbody>\n",
       "    <tr>\n",
       "      <th>0</th>\n",
       "      <td>0.056307</td>\n",
       "      <td>-0.251422</td>\n",
       "      <td>1.352747</td>\n",
       "      <td>2.506409</td>\n",
       "      <td>0</td>\n",
       "      <td>2</td>\n",
       "      <td>2</td>\n",
       "      <td>4</td>\n",
       "      <td>3</td>\n",
       "    </tr>\n",
       "    <tr>\n",
       "      <th>1</th>\n",
       "      <td>0.892131</td>\n",
       "      <td>0.718224</td>\n",
       "      <td>-0.111361</td>\n",
       "      <td>1.674435</td>\n",
       "      <td>1</td>\n",
       "      <td>1</td>\n",
       "      <td>1</td>\n",
       "      <td>3</td>\n",
       "      <td>3</td>\n",
       "    </tr>\n",
       "    <tr>\n",
       "      <th>2</th>\n",
       "      <td>0.892131</td>\n",
       "      <td>-1.221068</td>\n",
       "      <td>1.318494</td>\n",
       "      <td>5.018603</td>\n",
       "      <td>1</td>\n",
       "      <td>1</td>\n",
       "      <td>2</td>\n",
       "      <td>4</td>\n",
       "      <td>2</td>\n",
       "    </tr>\n",
       "    <tr>\n",
       "      <th>3</th>\n",
       "      <td>1.059296</td>\n",
       "      <td>1.566665</td>\n",
       "      <td>1.038803</td>\n",
       "      <td>1.375016</td>\n",
       "      <td>0</td>\n",
       "      <td>1</td>\n",
       "      <td>1</td>\n",
       "      <td>4</td>\n",
       "      <td>2</td>\n",
       "    </tr>\n",
       "    <tr>\n",
       "      <th>4</th>\n",
       "      <td>-0.278023</td>\n",
       "      <td>1.203047</td>\n",
       "      <td>4.548777</td>\n",
       "      <td>5.856064</td>\n",
       "      <td>1</td>\n",
       "      <td>2</td>\n",
       "      <td>2</td>\n",
       "      <td>5</td>\n",
       "      <td>2</td>\n",
       "    </tr>\n",
       "  </tbody>\n",
       "</table>\n",
       "</div>"
      ],
      "text/plain": [
       "        Age      City    Salary  Total Business Value  Gender  \\\n",
       "0  0.056307 -0.251422  1.352747              2.506409       0   \n",
       "1  0.892131  0.718224 -0.111361              1.674435       1   \n",
       "2  0.892131 -1.221068  1.318494              5.018603       1   \n",
       "3  1.059296  1.566665  1.038803              1.375016       0   \n",
       "4 -0.278023  1.203047  4.548777              5.856064       1   \n",
       "\n",
       "   Education_Level  Joining Designation  Designation  Quarterly Rating  \n",
       "0                2                    2            4                 3  \n",
       "1                1                    1            3                 3  \n",
       "2                1                    2            4                 2  \n",
       "3                1                    1            4                 2  \n",
       "4                2                    2            5                 2  "
      ]
     },
     "execution_count": 107,
     "metadata": {},
     "output_type": "execute_result"
    }
   ],
   "source": [
    "v.head()"
   ]
  },
  {
   "cell_type": "markdown",
   "metadata": {},
   "source": [
    "**Prediction of model with respect to test data**"
   ]
  },
  {
   "cell_type": "code",
   "execution_count": 131,
   "metadata": {},
   "outputs": [
    {
     "data": {
      "text/plain": [
       "array([0, 0, 0, 0, 0, 0, 0, 0, 0, 0, 0, 0, 0, 0, 0, 0, 1, 0, 0, 0, 0, 0,\n",
       "       0, 0, 0, 0, 0, 0, 0, 0, 0, 0, 0, 0, 0, 0, 1, 0, 0, 0, 0, 0, 0, 0,\n",
       "       0, 0, 1, 0, 0, 0, 0, 0, 0, 0, 0, 0, 0, 0, 0, 0, 0, 0, 0, 0, 0, 0,\n",
       "       0, 0, 0, 0, 0, 0, 0, 0, 1, 0, 0, 0, 0, 1, 0, 0, 0, 0, 0, 0, 0, 0,\n",
       "       0, 0, 0, 0, 0, 0, 0, 0, 1, 0, 0, 0, 0, 0, 0, 0, 0, 0, 0, 0, 0, 0,\n",
       "       1, 0, 1, 0, 0, 0, 0, 0, 0, 0, 0, 0, 0, 0, 0, 0, 0, 0, 0, 0, 0, 0,\n",
       "       0, 0, 0, 0, 0, 0, 0, 0, 0, 0, 0, 0, 0, 1, 0, 0, 0, 0, 1, 0, 1, 0,\n",
       "       0, 0, 0, 1, 0, 0, 0, 0, 0, 0, 0, 0, 0, 0, 0, 0, 0, 1, 1, 0, 0, 0,\n",
       "       0, 0, 0, 0, 0, 1, 0, 0, 0, 0, 0, 0, 0, 0, 0, 0, 0, 0, 0, 0, 0, 0,\n",
       "       0, 0, 0, 0, 0, 0, 0, 0, 0, 0, 0, 0, 0, 0, 0, 1, 0, 0, 0, 0, 0, 1,\n",
       "       0, 0, 0, 0, 0, 0, 0, 1, 0, 1, 1, 0, 0, 0, 1, 0, 0, 0, 0, 0, 1, 0,\n",
       "       0, 0, 0, 1, 1, 1, 0, 0, 0, 0, 1, 0, 0, 0, 0, 0, 0, 0, 1, 0, 0, 0,\n",
       "       0, 0, 0, 0, 0, 0, 0, 0, 1, 0, 0, 1, 0, 0, 0, 0, 0, 0, 1, 0, 0, 0,\n",
       "       0, 0, 0, 0, 0, 0, 1, 0, 0, 0, 0, 1, 0, 0, 1, 0, 1, 0, 0, 0, 1, 0,\n",
       "       0, 0, 1, 1, 0, 0, 0, 0, 0, 0, 1, 0, 0, 0, 1, 0, 0, 0, 0, 1, 0, 0,\n",
       "       0, 0, 0, 1, 1, 0, 1, 0, 1, 0, 0, 0, 1, 0, 0, 0, 1, 0, 0, 0, 0, 0,\n",
       "       0, 1, 0, 0, 0, 1, 0, 0, 0, 0, 0, 0, 1, 0, 0, 0, 0, 1, 0, 0, 0, 0,\n",
       "       1, 0, 0, 0, 0, 0, 0, 0, 0, 0, 1, 1, 1, 0, 0, 1, 1, 0, 0, 0, 0, 0,\n",
       "       0, 0, 0, 1, 0, 1, 0, 1, 1, 0, 1, 0, 0, 0, 0, 1, 1, 1, 1, 0, 0, 1,\n",
       "       0, 0, 0, 0, 1, 0, 0, 1, 0, 0, 1, 0, 0, 0, 1, 0, 0, 0, 0, 0, 0, 0,\n",
       "       0, 0, 0, 0, 0, 0, 0, 0, 0, 1, 0, 1, 1, 0, 1, 0, 0, 0, 1, 1, 0, 0,\n",
       "       0, 1, 1, 0, 0, 0, 1, 1, 1, 0, 1, 1, 1, 1, 0, 0, 1, 1, 0, 1, 1, 0,\n",
       "       0, 0, 1, 0, 0, 0, 0, 0, 1, 0, 1, 1, 1, 1, 1, 1, 1, 0, 1, 1, 0, 1,\n",
       "       0, 1, 0, 1, 0, 1, 1, 0, 0, 1, 0, 1, 0, 0, 0, 0, 1, 1, 0, 1, 1, 0,\n",
       "       1, 1, 1, 1, 1, 0, 0, 1, 1, 1, 1, 0, 1, 0, 0, 0, 0, 0, 1, 0, 1, 0,\n",
       "       1, 1, 0, 1, 0, 1, 1, 1, 1, 1, 1, 0, 0, 1, 1, 1, 1, 1, 1, 1, 1, 0,\n",
       "       0, 1, 1, 1, 1, 1, 1, 1, 1, 1, 1, 1, 1, 1, 1, 1, 1, 1, 1, 1, 1, 1,\n",
       "       1, 1, 1, 0, 1, 1, 1, 1, 1, 1, 1, 1, 1, 1, 0, 1, 1, 1, 1, 1, 1, 1,\n",
       "       1, 1, 1, 1, 0, 1, 1, 1, 1, 1, 1, 1, 1, 1, 1, 1, 1, 0, 1, 1, 1, 1,\n",
       "       1, 1, 1, 1, 1, 1, 1, 0, 1, 1, 1, 1, 1, 1, 1, 1, 1, 1, 1, 1, 1, 1,\n",
       "       1, 1, 1, 1, 1, 1, 1, 1, 1, 1, 1, 1, 1, 1, 1, 1, 1, 1, 1, 0, 1, 1,\n",
       "       1, 1, 1, 1, 1, 1, 1, 1, 1, 1, 1, 1, 1, 1, 1, 1, 1, 1, 1, 1, 1, 1,\n",
       "       1, 1, 1, 1, 1, 1, 1, 1, 1, 1, 1, 1, 1, 1, 1, 1, 1, 1, 0, 1, 1, 0,\n",
       "       0, 1, 0, 0, 1, 0, 0, 0, 0, 0, 1, 0, 0, 1, 0])"
      ]
     },
     "execution_count": 131,
     "metadata": {},
     "output_type": "execute_result"
    }
   ],
   "source": [
    "test_pred=model3.predict(v)\n",
    "test_pred"
   ]
  },
  {
   "cell_type": "markdown",
   "metadata": {},
   "source": [
    "**Importing the Submission file**"
   ]
  },
  {
   "cell_type": "code",
   "execution_count": 132,
   "metadata": {},
   "outputs": [],
   "source": [
    "submission=pd.read_csv('Downloads/submission.csv')"
   ]
  },
  {
   "cell_type": "code",
   "execution_count": 133,
   "metadata": {
    "scrolled": true
   },
   "outputs": [
    {
     "data": {
      "text/html": [
       "<div>\n",
       "<style scoped>\n",
       "    .dataframe tbody tr th:only-of-type {\n",
       "        vertical-align: middle;\n",
       "    }\n",
       "\n",
       "    .dataframe tbody tr th {\n",
       "        vertical-align: top;\n",
       "    }\n",
       "\n",
       "    .dataframe thead th {\n",
       "        text-align: right;\n",
       "    }\n",
       "</style>\n",
       "<table border=\"1\" class=\"dataframe\">\n",
       "  <thead>\n",
       "    <tr style=\"text-align: right;\">\n",
       "      <th></th>\n",
       "      <th>Emp_ID</th>\n",
       "      <th>Target</th>\n",
       "    </tr>\n",
       "  </thead>\n",
       "  <tbody>\n",
       "    <tr>\n",
       "      <th>0</th>\n",
       "      <td>394</td>\n",
       "      <td>0</td>\n",
       "    </tr>\n",
       "    <tr>\n",
       "      <th>1</th>\n",
       "      <td>173</td>\n",
       "      <td>0</td>\n",
       "    </tr>\n",
       "    <tr>\n",
       "      <th>2</th>\n",
       "      <td>1090</td>\n",
       "      <td>0</td>\n",
       "    </tr>\n",
       "    <tr>\n",
       "      <th>3</th>\n",
       "      <td>840</td>\n",
       "      <td>0</td>\n",
       "    </tr>\n",
       "    <tr>\n",
       "      <th>4</th>\n",
       "      <td>308</td>\n",
       "      <td>0</td>\n",
       "    </tr>\n",
       "  </tbody>\n",
       "</table>\n",
       "</div>"
      ],
      "text/plain": [
       "   Emp_ID  Target\n",
       "0     394       0\n",
       "1     173       0\n",
       "2    1090       0\n",
       "3     840       0\n",
       "4     308       0"
      ]
     },
     "execution_count": 133,
     "metadata": {},
     "output_type": "execute_result"
    }
   ],
   "source": [
    "submission.head()"
   ]
  },
  {
   "cell_type": "code",
   "execution_count": 117,
   "metadata": {},
   "outputs": [],
   "source": [
    "submission['Target']=test_pred"
   ]
  },
  {
   "cell_type": "code",
   "execution_count": 118,
   "metadata": {},
   "outputs": [
    {
     "data": {
      "text/html": [
       "<div>\n",
       "<style scoped>\n",
       "    .dataframe tbody tr th:only-of-type {\n",
       "        vertical-align: middle;\n",
       "    }\n",
       "\n",
       "    .dataframe tbody tr th {\n",
       "        vertical-align: top;\n",
       "    }\n",
       "\n",
       "    .dataframe thead th {\n",
       "        text-align: right;\n",
       "    }\n",
       "</style>\n",
       "<table border=\"1\" class=\"dataframe\">\n",
       "  <thead>\n",
       "    <tr style=\"text-align: right;\">\n",
       "      <th></th>\n",
       "      <th>Emp_ID</th>\n",
       "      <th>Target</th>\n",
       "    </tr>\n",
       "  </thead>\n",
       "  <tbody>\n",
       "    <tr>\n",
       "      <th>0</th>\n",
       "      <td>394</td>\n",
       "      <td>0</td>\n",
       "    </tr>\n",
       "    <tr>\n",
       "      <th>1</th>\n",
       "      <td>173</td>\n",
       "      <td>0</td>\n",
       "    </tr>\n",
       "    <tr>\n",
       "      <th>2</th>\n",
       "      <td>1090</td>\n",
       "      <td>0</td>\n",
       "    </tr>\n",
       "    <tr>\n",
       "      <th>3</th>\n",
       "      <td>840</td>\n",
       "      <td>0</td>\n",
       "    </tr>\n",
       "    <tr>\n",
       "      <th>4</th>\n",
       "      <td>308</td>\n",
       "      <td>0</td>\n",
       "    </tr>\n",
       "    <tr>\n",
       "      <th>...</th>\n",
       "      <td>...</td>\n",
       "      <td>...</td>\n",
       "    </tr>\n",
       "    <tr>\n",
       "      <th>736</th>\n",
       "      <td>2134</td>\n",
       "      <td>0</td>\n",
       "    </tr>\n",
       "    <tr>\n",
       "      <th>737</th>\n",
       "      <td>2255</td>\n",
       "      <td>0</td>\n",
       "    </tr>\n",
       "    <tr>\n",
       "      <th>738</th>\n",
       "      <td>448</td>\n",
       "      <td>0</td>\n",
       "    </tr>\n",
       "    <tr>\n",
       "      <th>739</th>\n",
       "      <td>1644</td>\n",
       "      <td>0</td>\n",
       "    </tr>\n",
       "    <tr>\n",
       "      <th>740</th>\n",
       "      <td>624</td>\n",
       "      <td>0</td>\n",
       "    </tr>\n",
       "  </tbody>\n",
       "</table>\n",
       "<p>741 rows × 2 columns</p>\n",
       "</div>"
      ],
      "text/plain": [
       "     Emp_ID  Target\n",
       "0       394       0\n",
       "1       173       0\n",
       "2      1090       0\n",
       "3       840       0\n",
       "4       308       0\n",
       "..      ...     ...\n",
       "736    2134       0\n",
       "737    2255       0\n",
       "738     448       0\n",
       "739    1644       0\n",
       "740     624       0\n",
       "\n",
       "[741 rows x 2 columns]"
      ]
     },
     "execution_count": 118,
     "metadata": {},
     "output_type": "execute_result"
    }
   ],
   "source": [
    "submission"
   ]
  },
  {
   "cell_type": "markdown",
   "metadata": {},
   "source": [
    "**Exporting the submission file to the path location**"
   ]
  },
  {
   "cell_type": "code",
   "execution_count": 134,
   "metadata": {},
   "outputs": [],
   "source": [
    "submission.to_csv('Downloads/submission8.csv')"
   ]
  },
  {
   "cell_type": "code",
   "execution_count": null,
   "metadata": {},
   "outputs": [],
   "source": []
  }
 ],
 "metadata": {
  "kernelspec": {
   "display_name": "Python 3",
   "language": "python",
   "name": "python3"
  },
  "language_info": {
   "codemirror_mode": {
    "name": "ipython",
    "version": 3
   },
   "file_extension": ".py",
   "mimetype": "text/x-python",
   "name": "python",
   "nbconvert_exporter": "python",
   "pygments_lexer": "ipython3",
   "version": "3.8.8"
  }
 },
 "nbformat": 4,
 "nbformat_minor": 4
}
